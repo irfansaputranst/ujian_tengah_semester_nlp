{
  "cells": [
    {
      "cell_type": "markdown",
      "metadata": {
        "id": "MQruJCltrozU"
      },
      "source": [
        "## Ujian Tengah Semester - Natural Language Programming\n",
        "\n",
        "- Nama: Irfan Saputra Nasution\n",
        "- NIM : 210401107\n",
        "- Dosen Pengampu : Taslim, M.Kom, MTA, MCF\n"
      ]
    },
    {
      "cell_type": "markdown",
      "metadata": {
        "id": "VI4VHZJCsAtD"
      },
      "source": [
        "## **Tahap 1: Data Preprocessing**"
      ]
    },
    {
      "cell_type": "markdown",
      "metadata": {
        "id": "P0ibDpHJquSe"
      },
      "source": [
        "### **1. Eksplorasi Data**"
      ]
    },
    {
      "cell_type": "markdown",
      "metadata": {
        "id": "rG4jadpxouxl"
      },
      "source": [
        "#### 1.1 Import Library"
      ]
    },
    {
      "cell_type": "code",
      "execution_count": null,
      "metadata": {
        "id": "v3ez2GpGre_W"
      },
      "outputs": [],
      "source": [
        "import pandas as pd\n",
        "import numpy as np\n",
        "import seaborn as sns\n",
        "import matplotlib.pyplot as plt\n",
        "import nltk\n",
        "import re\n",
        "import string\n",
        "from sklearn.feature_extraction.text import TfidfVectorizer\n",
        "from sklearn.model_selection import train_test_split\n",
        "from sklearn.neighbors import KNeighborsClassifier\n",
        "from sklearn.naive_bayes import GaussianNB\n",
        "from sklearn.metrics import confusion_matrix, accuracy_score, precision_score, recall_score, f1_score\n",
        "from gensim.models import Word2Vec\n",
        "from google.colab import drive\n",
        "from nltk.tokenize import word_tokenize\n",
        "from nltk.probability import FreqDist\n",
        "from nltk.corpus import words\n",
        "from sklearn.feature_extraction.text import TfidfVectorizer, CountVectorizer, TfidfTransformer\n",
        "from sklearn import model_selection\n",
        "from sklearn.model_selection import train_test_split\n",
        "from sklearn.preprocessing import LabelEncoder"
      ]
    },
    {
      "cell_type": "code",
      "execution_count": null,
      "metadata": {
        "colab": {
          "base_uri": "https://localhost:8080/"
        },
        "id": "pFOfUNRrivmQ",
        "outputId": "bbaac99a-85c3-4fa3-c397-762a90f0a1cb"
      },
      "outputs": [
        {
          "output_type": "stream",
          "name": "stderr",
          "text": [
            "[nltk_data] Downloading package stopwords to /root/nltk_data...\n",
            "[nltk_data]   Unzipping corpora/stopwords.zip.\n"
          ]
        }
      ],
      "source": [
        "# Download NLTK stopwords\n",
        "nltk.download('stopwords')\n",
        "from nltk.corpus import stopwords"
      ]
    },
    {
      "cell_type": "code",
      "source": [
        "nltk.download('words')\n",
        "word_list = set(words.words())"
      ],
      "metadata": {
        "colab": {
          "base_uri": "https://localhost:8080/"
        },
        "id": "F657s68hmZod",
        "outputId": "28287817-5a13-4b23-c176-b22fc5a442e0"
      },
      "execution_count": null,
      "outputs": [
        {
          "output_type": "stream",
          "name": "stderr",
          "text": [
            "[nltk_data] Downloading package words to /root/nltk_data...\n",
            "[nltk_data]   Unzipping corpora/words.zip.\n"
          ]
        }
      ]
    },
    {
      "cell_type": "markdown",
      "metadata": {
        "id": "SIXKiPUfozey"
      },
      "source": [
        "#### 1.2 Import Data"
      ]
    },
    {
      "cell_type": "code",
      "execution_count": null,
      "metadata": {
        "colab": {
          "base_uri": "https://localhost:8080/"
        },
        "id": "ogI8PZjLi_kZ",
        "outputId": "df93fad8-44ad-4828-de0c-f187a7da4881"
      },
      "outputs": [
        {
          "output_type": "stream",
          "name": "stdout",
          "text": [
            "Mounted at /content/drive\n"
          ]
        }
      ],
      "source": [
        "# Mount Drive\n",
        "drive.mount('/content/drive')"
      ]
    },
    {
      "cell_type": "code",
      "execution_count": null,
      "metadata": {
        "id": "GazNPnx-pFVw"
      },
      "outputs": [],
      "source": [
        "df = pd.read_csv('/content/drive/MyDrive/Dataset/Phishing_Email.csv')"
      ]
    },
    {
      "cell_type": "markdown",
      "metadata": {
        "id": "L1o3JJ3dpGbS"
      },
      "source": [
        "#### 1.3 Memahami Struktur Dataset"
      ]
    },
    {
      "cell_type": "code",
      "execution_count": null,
      "metadata": {
        "colab": {
          "base_uri": "https://localhost:8080/",
          "height": 676
        },
        "id": "J84u4msjpYGC",
        "outputId": "f8dd7061-6371-4a83-e432-431d8fa12d81"
      },
      "outputs": [
        {
          "output_type": "execute_result",
          "data": {
            "text/plain": [
              "    Unnamed: 0                                         Email Text  \\\n",
              "0            0  re : 6 . 1100 , disc : uniformitarianism , re ...   \n",
              "1            1  the other side of * galicismos * * galicismo *...   \n",
              "2            2  re : equistar deal tickets are you still avail...   \n",
              "3            3  \\nHello I am your hot lil horny toy.\\n    I am...   \n",
              "4            4  software at incredibly low prices ( 86 % lower...   \n",
              "5            5  global risk management operations sally congra...   \n",
              "6            6  On Sun, Aug 11, 2002 at 11:17:47AM +0100, wint...   \n",
              "7            7  entourage , stockmogul newsletter ralph velez ...   \n",
              "8            8  we owe you lots of money dear applicant , afte...   \n",
              "9            9  re : coastal deal - with exxon participation u...   \n",
              "10          10  make her beg you to give it to her everynight ...   \n",
              "11          11  URL: http://www.newsisfree.com/click/-5,830431...   \n",
              "12          12  begin forwarded text Date: Wed, 25 Sep 2002 13...   \n",
              "13          13  re : fyi - wellhead portfolio who is considere...   \n",
              "14          14  rmmla / ads * * * * * * * * papers solicited f...   \n",
              "15          15  re : testing ir & fx var nick and winston , i ...   \n",
              "16          16  The academic discipline of Software Engineerin...   \n",
              "17          17  re : 3 . 402 queries : language - speakers , s...   \n",
              "18          18  a resume john , this is a resume i received to...   \n",
              "19          19  EFFector       Vol. 15, No. 35       November ...   \n",
              "\n",
              "        Email Type  \n",
              "0       Safe Email  \n",
              "1       Safe Email  \n",
              "2       Safe Email  \n",
              "3   Phishing Email  \n",
              "4   Phishing Email  \n",
              "5       Safe Email  \n",
              "6       Safe Email  \n",
              "7   Phishing Email  \n",
              "8   Phishing Email  \n",
              "9       Safe Email  \n",
              "10  Phishing Email  \n",
              "11      Safe Email  \n",
              "12      Safe Email  \n",
              "13      Safe Email  \n",
              "14      Safe Email  \n",
              "15      Safe Email  \n",
              "16      Safe Email  \n",
              "17      Safe Email  \n",
              "18      Safe Email  \n",
              "19      Safe Email  "
            ],
            "text/html": [
              "\n",
              "  <div id=\"df-c1776f4c-6f9e-4f70-8e91-65b4dbbbda08\" class=\"colab-df-container\">\n",
              "    <div>\n",
              "<style scoped>\n",
              "    .dataframe tbody tr th:only-of-type {\n",
              "        vertical-align: middle;\n",
              "    }\n",
              "\n",
              "    .dataframe tbody tr th {\n",
              "        vertical-align: top;\n",
              "    }\n",
              "\n",
              "    .dataframe thead th {\n",
              "        text-align: right;\n",
              "    }\n",
              "</style>\n",
              "<table border=\"1\" class=\"dataframe\">\n",
              "  <thead>\n",
              "    <tr style=\"text-align: right;\">\n",
              "      <th></th>\n",
              "      <th>Unnamed: 0</th>\n",
              "      <th>Email Text</th>\n",
              "      <th>Email Type</th>\n",
              "    </tr>\n",
              "  </thead>\n",
              "  <tbody>\n",
              "    <tr>\n",
              "      <th>0</th>\n",
              "      <td>0</td>\n",
              "      <td>re : 6 . 1100 , disc : uniformitarianism , re ...</td>\n",
              "      <td>Safe Email</td>\n",
              "    </tr>\n",
              "    <tr>\n",
              "      <th>1</th>\n",
              "      <td>1</td>\n",
              "      <td>the other side of * galicismos * * galicismo *...</td>\n",
              "      <td>Safe Email</td>\n",
              "    </tr>\n",
              "    <tr>\n",
              "      <th>2</th>\n",
              "      <td>2</td>\n",
              "      <td>re : equistar deal tickets are you still avail...</td>\n",
              "      <td>Safe Email</td>\n",
              "    </tr>\n",
              "    <tr>\n",
              "      <th>3</th>\n",
              "      <td>3</td>\n",
              "      <td>\\nHello I am your hot lil horny toy.\\n    I am...</td>\n",
              "      <td>Phishing Email</td>\n",
              "    </tr>\n",
              "    <tr>\n",
              "      <th>4</th>\n",
              "      <td>4</td>\n",
              "      <td>software at incredibly low prices ( 86 % lower...</td>\n",
              "      <td>Phishing Email</td>\n",
              "    </tr>\n",
              "    <tr>\n",
              "      <th>5</th>\n",
              "      <td>5</td>\n",
              "      <td>global risk management operations sally congra...</td>\n",
              "      <td>Safe Email</td>\n",
              "    </tr>\n",
              "    <tr>\n",
              "      <th>6</th>\n",
              "      <td>6</td>\n",
              "      <td>On Sun, Aug 11, 2002 at 11:17:47AM +0100, wint...</td>\n",
              "      <td>Safe Email</td>\n",
              "    </tr>\n",
              "    <tr>\n",
              "      <th>7</th>\n",
              "      <td>7</td>\n",
              "      <td>entourage , stockmogul newsletter ralph velez ...</td>\n",
              "      <td>Phishing Email</td>\n",
              "    </tr>\n",
              "    <tr>\n",
              "      <th>8</th>\n",
              "      <td>8</td>\n",
              "      <td>we owe you lots of money dear applicant , afte...</td>\n",
              "      <td>Phishing Email</td>\n",
              "    </tr>\n",
              "    <tr>\n",
              "      <th>9</th>\n",
              "      <td>9</td>\n",
              "      <td>re : coastal deal - with exxon participation u...</td>\n",
              "      <td>Safe Email</td>\n",
              "    </tr>\n",
              "    <tr>\n",
              "      <th>10</th>\n",
              "      <td>10</td>\n",
              "      <td>make her beg you to give it to her everynight ...</td>\n",
              "      <td>Phishing Email</td>\n",
              "    </tr>\n",
              "    <tr>\n",
              "      <th>11</th>\n",
              "      <td>11</td>\n",
              "      <td>URL: http://www.newsisfree.com/click/-5,830431...</td>\n",
              "      <td>Safe Email</td>\n",
              "    </tr>\n",
              "    <tr>\n",
              "      <th>12</th>\n",
              "      <td>12</td>\n",
              "      <td>begin forwarded text Date: Wed, 25 Sep 2002 13...</td>\n",
              "      <td>Safe Email</td>\n",
              "    </tr>\n",
              "    <tr>\n",
              "      <th>13</th>\n",
              "      <td>13</td>\n",
              "      <td>re : fyi - wellhead portfolio who is considere...</td>\n",
              "      <td>Safe Email</td>\n",
              "    </tr>\n",
              "    <tr>\n",
              "      <th>14</th>\n",
              "      <td>14</td>\n",
              "      <td>rmmla / ads * * * * * * * * papers solicited f...</td>\n",
              "      <td>Safe Email</td>\n",
              "    </tr>\n",
              "    <tr>\n",
              "      <th>15</th>\n",
              "      <td>15</td>\n",
              "      <td>re : testing ir &amp; fx var nick and winston , i ...</td>\n",
              "      <td>Safe Email</td>\n",
              "    </tr>\n",
              "    <tr>\n",
              "      <th>16</th>\n",
              "      <td>16</td>\n",
              "      <td>The academic discipline of Software Engineerin...</td>\n",
              "      <td>Safe Email</td>\n",
              "    </tr>\n",
              "    <tr>\n",
              "      <th>17</th>\n",
              "      <td>17</td>\n",
              "      <td>re : 3 . 402 queries : language - speakers , s...</td>\n",
              "      <td>Safe Email</td>\n",
              "    </tr>\n",
              "    <tr>\n",
              "      <th>18</th>\n",
              "      <td>18</td>\n",
              "      <td>a resume john , this is a resume i received to...</td>\n",
              "      <td>Safe Email</td>\n",
              "    </tr>\n",
              "    <tr>\n",
              "      <th>19</th>\n",
              "      <td>19</td>\n",
              "      <td>EFFector       Vol. 15, No. 35       November ...</td>\n",
              "      <td>Safe Email</td>\n",
              "    </tr>\n",
              "  </tbody>\n",
              "</table>\n",
              "</div>\n",
              "    <div class=\"colab-df-buttons\">\n",
              "\n",
              "  <div class=\"colab-df-container\">\n",
              "    <button class=\"colab-df-convert\" onclick=\"convertToInteractive('df-c1776f4c-6f9e-4f70-8e91-65b4dbbbda08')\"\n",
              "            title=\"Convert this dataframe to an interactive table.\"\n",
              "            style=\"display:none;\">\n",
              "\n",
              "  <svg xmlns=\"http://www.w3.org/2000/svg\" height=\"24px\" viewBox=\"0 -960 960 960\">\n",
              "    <path d=\"M120-120v-720h720v720H120Zm60-500h600v-160H180v160Zm220 220h160v-160H400v160Zm0 220h160v-160H400v160ZM180-400h160v-160H180v160Zm440 0h160v-160H620v160ZM180-180h160v-160H180v160Zm440 0h160v-160H620v160Z\"/>\n",
              "  </svg>\n",
              "    </button>\n",
              "\n",
              "  <style>\n",
              "    .colab-df-container {\n",
              "      display:flex;\n",
              "      gap: 12px;\n",
              "    }\n",
              "\n",
              "    .colab-df-convert {\n",
              "      background-color: #E8F0FE;\n",
              "      border: none;\n",
              "      border-radius: 50%;\n",
              "      cursor: pointer;\n",
              "      display: none;\n",
              "      fill: #1967D2;\n",
              "      height: 32px;\n",
              "      padding: 0 0 0 0;\n",
              "      width: 32px;\n",
              "    }\n",
              "\n",
              "    .colab-df-convert:hover {\n",
              "      background-color: #E2EBFA;\n",
              "      box-shadow: 0px 1px 2px rgba(60, 64, 67, 0.3), 0px 1px 3px 1px rgba(60, 64, 67, 0.15);\n",
              "      fill: #174EA6;\n",
              "    }\n",
              "\n",
              "    .colab-df-buttons div {\n",
              "      margin-bottom: 4px;\n",
              "    }\n",
              "\n",
              "    [theme=dark] .colab-df-convert {\n",
              "      background-color: #3B4455;\n",
              "      fill: #D2E3FC;\n",
              "    }\n",
              "\n",
              "    [theme=dark] .colab-df-convert:hover {\n",
              "      background-color: #434B5C;\n",
              "      box-shadow: 0px 1px 3px 1px rgba(0, 0, 0, 0.15);\n",
              "      filter: drop-shadow(0px 1px 2px rgba(0, 0, 0, 0.3));\n",
              "      fill: #FFFFFF;\n",
              "    }\n",
              "  </style>\n",
              "\n",
              "    <script>\n",
              "      const buttonEl =\n",
              "        document.querySelector('#df-c1776f4c-6f9e-4f70-8e91-65b4dbbbda08 button.colab-df-convert');\n",
              "      buttonEl.style.display =\n",
              "        google.colab.kernel.accessAllowed ? 'block' : 'none';\n",
              "\n",
              "      async function convertToInteractive(key) {\n",
              "        const element = document.querySelector('#df-c1776f4c-6f9e-4f70-8e91-65b4dbbbda08');\n",
              "        const dataTable =\n",
              "          await google.colab.kernel.invokeFunction('convertToInteractive',\n",
              "                                                    [key], {});\n",
              "        if (!dataTable) return;\n",
              "\n",
              "        const docLinkHtml = 'Like what you see? Visit the ' +\n",
              "          '<a target=\"_blank\" href=https://colab.research.google.com/notebooks/data_table.ipynb>data table notebook</a>'\n",
              "          + ' to learn more about interactive tables.';\n",
              "        element.innerHTML = '';\n",
              "        dataTable['output_type'] = 'display_data';\n",
              "        await google.colab.output.renderOutput(dataTable, element);\n",
              "        const docLink = document.createElement('div');\n",
              "        docLink.innerHTML = docLinkHtml;\n",
              "        element.appendChild(docLink);\n",
              "      }\n",
              "    </script>\n",
              "  </div>\n",
              "\n",
              "\n",
              "<div id=\"df-c1b70b1e-484f-4129-ad3f-b7effb5768e6\">\n",
              "  <button class=\"colab-df-quickchart\" onclick=\"quickchart('df-c1b70b1e-484f-4129-ad3f-b7effb5768e6')\"\n",
              "            title=\"Suggest charts\"\n",
              "            style=\"display:none;\">\n",
              "\n",
              "<svg xmlns=\"http://www.w3.org/2000/svg\" height=\"24px\"viewBox=\"0 0 24 24\"\n",
              "     width=\"24px\">\n",
              "    <g>\n",
              "        <path d=\"M19 3H5c-1.1 0-2 .9-2 2v14c0 1.1.9 2 2 2h14c1.1 0 2-.9 2-2V5c0-1.1-.9-2-2-2zM9 17H7v-7h2v7zm4 0h-2V7h2v10zm4 0h-2v-4h2v4z\"/>\n",
              "    </g>\n",
              "</svg>\n",
              "  </button>\n",
              "\n",
              "<style>\n",
              "  .colab-df-quickchart {\n",
              "      --bg-color: #E8F0FE;\n",
              "      --fill-color: #1967D2;\n",
              "      --hover-bg-color: #E2EBFA;\n",
              "      --hover-fill-color: #174EA6;\n",
              "      --disabled-fill-color: #AAA;\n",
              "      --disabled-bg-color: #DDD;\n",
              "  }\n",
              "\n",
              "  [theme=dark] .colab-df-quickchart {\n",
              "      --bg-color: #3B4455;\n",
              "      --fill-color: #D2E3FC;\n",
              "      --hover-bg-color: #434B5C;\n",
              "      --hover-fill-color: #FFFFFF;\n",
              "      --disabled-bg-color: #3B4455;\n",
              "      --disabled-fill-color: #666;\n",
              "  }\n",
              "\n",
              "  .colab-df-quickchart {\n",
              "    background-color: var(--bg-color);\n",
              "    border: none;\n",
              "    border-radius: 50%;\n",
              "    cursor: pointer;\n",
              "    display: none;\n",
              "    fill: var(--fill-color);\n",
              "    height: 32px;\n",
              "    padding: 0;\n",
              "    width: 32px;\n",
              "  }\n",
              "\n",
              "  .colab-df-quickchart:hover {\n",
              "    background-color: var(--hover-bg-color);\n",
              "    box-shadow: 0 1px 2px rgba(60, 64, 67, 0.3), 0 1px 3px 1px rgba(60, 64, 67, 0.15);\n",
              "    fill: var(--button-hover-fill-color);\n",
              "  }\n",
              "\n",
              "  .colab-df-quickchart-complete:disabled,\n",
              "  .colab-df-quickchart-complete:disabled:hover {\n",
              "    background-color: var(--disabled-bg-color);\n",
              "    fill: var(--disabled-fill-color);\n",
              "    box-shadow: none;\n",
              "  }\n",
              "\n",
              "  .colab-df-spinner {\n",
              "    border: 2px solid var(--fill-color);\n",
              "    border-color: transparent;\n",
              "    border-bottom-color: var(--fill-color);\n",
              "    animation:\n",
              "      spin 1s steps(1) infinite;\n",
              "  }\n",
              "\n",
              "  @keyframes spin {\n",
              "    0% {\n",
              "      border-color: transparent;\n",
              "      border-bottom-color: var(--fill-color);\n",
              "      border-left-color: var(--fill-color);\n",
              "    }\n",
              "    20% {\n",
              "      border-color: transparent;\n",
              "      border-left-color: var(--fill-color);\n",
              "      border-top-color: var(--fill-color);\n",
              "    }\n",
              "    30% {\n",
              "      border-color: transparent;\n",
              "      border-left-color: var(--fill-color);\n",
              "      border-top-color: var(--fill-color);\n",
              "      border-right-color: var(--fill-color);\n",
              "    }\n",
              "    40% {\n",
              "      border-color: transparent;\n",
              "      border-right-color: var(--fill-color);\n",
              "      border-top-color: var(--fill-color);\n",
              "    }\n",
              "    60% {\n",
              "      border-color: transparent;\n",
              "      border-right-color: var(--fill-color);\n",
              "    }\n",
              "    80% {\n",
              "      border-color: transparent;\n",
              "      border-right-color: var(--fill-color);\n",
              "      border-bottom-color: var(--fill-color);\n",
              "    }\n",
              "    90% {\n",
              "      border-color: transparent;\n",
              "      border-bottom-color: var(--fill-color);\n",
              "    }\n",
              "  }\n",
              "</style>\n",
              "\n",
              "  <script>\n",
              "    async function quickchart(key) {\n",
              "      const quickchartButtonEl =\n",
              "        document.querySelector('#' + key + ' button');\n",
              "      quickchartButtonEl.disabled = true;  // To prevent multiple clicks.\n",
              "      quickchartButtonEl.classList.add('colab-df-spinner');\n",
              "      try {\n",
              "        const charts = await google.colab.kernel.invokeFunction(\n",
              "            'suggestCharts', [key], {});\n",
              "      } catch (error) {\n",
              "        console.error('Error during call to suggestCharts:', error);\n",
              "      }\n",
              "      quickchartButtonEl.classList.remove('colab-df-spinner');\n",
              "      quickchartButtonEl.classList.add('colab-df-quickchart-complete');\n",
              "    }\n",
              "    (() => {\n",
              "      let quickchartButtonEl =\n",
              "        document.querySelector('#df-c1b70b1e-484f-4129-ad3f-b7effb5768e6 button');\n",
              "      quickchartButtonEl.style.display =\n",
              "        google.colab.kernel.accessAllowed ? 'block' : 'none';\n",
              "    })();\n",
              "  </script>\n",
              "</div>\n",
              "\n",
              "    </div>\n",
              "  </div>\n"
            ],
            "application/vnd.google.colaboratory.intrinsic+json": {
              "type": "dataframe",
              "variable_name": "df",
              "summary": "{\n  \"name\": \"df\",\n  \"rows\": 18650,\n  \"fields\": [\n    {\n      \"column\": \"Unnamed: 0\",\n      \"properties\": {\n        \"dtype\": \"number\",\n        \"std\": 5384,\n        \"min\": 0,\n        \"max\": 18650,\n        \"num_unique_values\": 18650,\n        \"samples\": [\n          14470,\n          3014,\n          16942\n        ],\n        \"semantic_type\": \"\",\n        \"description\": \"\"\n      }\n    },\n    {\n      \"column\": \"Email Text\",\n      \"properties\": {\n        \"dtype\": \"string\",\n        \"num_unique_values\": 17537,\n        \"samples\": [\n          \"available for review : massaro 98 - the book listed below is in the linguist office and now available for review . if you are interested in reviewing a book ( or leading a discussion of the book ) ; please contact our book review editor , andrew carnie , at : carnie @ linguistlist . org please include in your request message a brief statement about your research interests , background , affiliation and other information that might be valuable to help us select a suitable reviewer . speech perception massaro , dominic ( 1998 ) perceiving talking faces : from speech perception to a behavioral principle . cambridge : mit press . pattern recognition is deemed central to cognition . it appears to follow an optimal algorithm in a wide variety of behaviors and situations . _ perceiving talking faces _ proposes an invariant law of pattern recognition to describe how multiple sources of continuously perceived information , such as auditory and visual speech input are processed to achieve perception of a category . the book details the author 's extensive series of experiments on the use of multiple cues in speech perception and other domains , and unifies teh results under the fuzzy logical model of perception . the volume includes a cd rom . the reviewer of this volume will be expected to review both the book and the cd rom .\",\n          \"lng contracts i am seeking information on where to find copies of lng contracts that were previously in the domain of the old enron international company . enron north america will be establishing a risk book to manage lng positions on a worldwide basis and we need copies of all contracts to set this up . these contracts may or may not be related to the dabhol project . if you can provide guidance or information as to where to find these contracts , i would appreciate it . you may respond via email or call me at 713 - 853 - 6079 in houston . thank you for your attention .\",\n          \"citizens homelink online banking and investing email dear citizens customer , as a customer of citizens bank , the security of your personal and account information is extremely important to us . by practicing good security habits , you can help us ensure that your private information is protected . our new security system will help you to avoid frequently fraud transactions and to keep your investments in safety . due to technical update we recommend you to reactivate your account . to reactivate your account please start by clicking on this webpage : we appreciate your business . it ' s truly our pleasure to serve you . citizens bank customer care this email is intended for citizens bank users only . ignore it if has been arrived by mistake . member fdic equal housing lender \\u00a9 2003 citizens financial group . all rights reserved .\"\n        ],\n        \"semantic_type\": \"\",\n        \"description\": \"\"\n      }\n    },\n    {\n      \"column\": \"Email Type\",\n      \"properties\": {\n        \"dtype\": \"category\",\n        \"num_unique_values\": 2,\n        \"samples\": [\n          \"Phishing Email\",\n          \"Safe Email\"\n        ],\n        \"semantic_type\": \"\",\n        \"description\": \"\"\n      }\n    }\n  ]\n}"
            }
          },
          "metadata": {},
          "execution_count": 6
        }
      ],
      "source": [
        "df.head(20) # Menampilkan 20 dataset pertama"
      ]
    },
    {
      "cell_type": "code",
      "execution_count": null,
      "metadata": {
        "colab": {
          "base_uri": "https://localhost:8080/"
        },
        "id": "S6q0gPQJjtG3",
        "outputId": "6c601414-3725-4700-96c1-1bfdcf84d41e"
      },
      "outputs": [
        {
          "output_type": "stream",
          "name": "stdout",
          "text": [
            "<class 'pandas.core.frame.DataFrame'>\n",
            "RangeIndex: 18650 entries, 0 to 18649\n",
            "Data columns (total 3 columns):\n",
            " #   Column      Non-Null Count  Dtype \n",
            "---  ------      --------------  ----- \n",
            " 0   Unnamed: 0  18650 non-null  int64 \n",
            " 1   Email Text  18634 non-null  object\n",
            " 2   Email Type  18650 non-null  object\n",
            "dtypes: int64(1), object(2)\n",
            "memory usage: 437.2+ KB\n"
          ]
        }
      ],
      "source": [
        "# Tampilkan informasi umum tentang dataset\n",
        "df.info()"
      ]
    },
    {
      "cell_type": "code",
      "execution_count": null,
      "metadata": {
        "colab": {
          "base_uri": "https://localhost:8080/"
        },
        "id": "giXc_4haGMsw",
        "outputId": "a70a9703-8846-4dbd-e42c-03f1a22e4ba7"
      },
      "outputs": [
        {
          "output_type": "stream",
          "name": "stdout",
          "text": [
            "<class 'pandas.core.frame.DataFrame'>\n",
            "RangeIndex: 18650 entries, 0 to 18649\n",
            "Data columns (total 3 columns):\n",
            " #   Column      Non-Null Count  Dtype \n",
            "---  ------      --------------  ----- \n",
            " 0   Unnamed: 0  18650 non-null  int64 \n",
            " 1   Email Text  18634 non-null  string\n",
            " 2   Email Type  18650 non-null  string\n",
            "dtypes: int64(1), string(2)\n",
            "memory usage: 437.2 KB\n"
          ]
        }
      ],
      "source": [
        "# Mengubah Tipe Data\n",
        "df['Email Text'] = df['Email Text'].astype(\"string\")\n",
        "df['Email Type'] = df['Email Type'].astype(\"string\")\n",
        "df.info()"
      ]
    },
    {
      "cell_type": "markdown",
      "metadata": {
        "id": "VrBCmzpRpY49"
      },
      "source": [
        "#### 1.4 Menangani Missing Value, Data Null, Duplicated"
      ]
    },
    {
      "cell_type": "code",
      "execution_count": null,
      "metadata": {
        "colab": {
          "base_uri": "https://localhost:8080/"
        },
        "id": "nxmXMBaPpmCW",
        "outputId": "0fca52e7-d8b0-407f-a9a6-a6820ae7c6a5"
      },
      "outputs": [
        {
          "output_type": "execute_result",
          "data": {
            "text/plain": [
              "0"
            ]
          },
          "metadata": {},
          "execution_count": 9
        }
      ],
      "source": [
        "# Pengecekan Duplicated\n",
        "df.duplicated().sum()"
      ]
    },
    {
      "cell_type": "code",
      "execution_count": null,
      "metadata": {
        "colab": {
          "base_uri": "https://localhost:8080/",
          "height": 178
        },
        "id": "7y0RV98EmEne",
        "outputId": "ccb61c7c-fb6a-4760-f9d0-a4289997a954"
      },
      "outputs": [
        {
          "output_type": "execute_result",
          "data": {
            "text/plain": [
              "Unnamed: 0     0\n",
              "Email Text    16\n",
              "Email Type     0\n",
              "dtype: int64"
            ],
            "text/html": [
              "<div>\n",
              "<style scoped>\n",
              "    .dataframe tbody tr th:only-of-type {\n",
              "        vertical-align: middle;\n",
              "    }\n",
              "\n",
              "    .dataframe tbody tr th {\n",
              "        vertical-align: top;\n",
              "    }\n",
              "\n",
              "    .dataframe thead th {\n",
              "        text-align: right;\n",
              "    }\n",
              "</style>\n",
              "<table border=\"1\" class=\"dataframe\">\n",
              "  <thead>\n",
              "    <tr style=\"text-align: right;\">\n",
              "      <th></th>\n",
              "      <th>0</th>\n",
              "    </tr>\n",
              "  </thead>\n",
              "  <tbody>\n",
              "    <tr>\n",
              "      <th>Unnamed: 0</th>\n",
              "      <td>0</td>\n",
              "    </tr>\n",
              "    <tr>\n",
              "      <th>Email Text</th>\n",
              "      <td>16</td>\n",
              "    </tr>\n",
              "    <tr>\n",
              "      <th>Email Type</th>\n",
              "      <td>0</td>\n",
              "    </tr>\n",
              "  </tbody>\n",
              "</table>\n",
              "</div><br><label><b>dtype:</b> int64</label>"
            ]
          },
          "metadata": {},
          "execution_count": 10
        }
      ],
      "source": [
        "# Pengecekan Data Null (Kosong)\n",
        "df.isnull().sum()"
      ]
    },
    {
      "cell_type": "code",
      "execution_count": null,
      "metadata": {
        "colab": {
          "base_uri": "https://localhost:8080/",
          "height": 178
        },
        "id": "ax8IZ1AWHKLa",
        "outputId": "62bde044-f37a-4846-8aa4-be401ee0bf7a"
      },
      "outputs": [
        {
          "output_type": "execute_result",
          "data": {
            "text/plain": [
              "Unnamed: 0    0\n",
              "Email Text    0\n",
              "Email Type    0\n",
              "dtype: int64"
            ],
            "text/html": [
              "<div>\n",
              "<style scoped>\n",
              "    .dataframe tbody tr th:only-of-type {\n",
              "        vertical-align: middle;\n",
              "    }\n",
              "\n",
              "    .dataframe tbody tr th {\n",
              "        vertical-align: top;\n",
              "    }\n",
              "\n",
              "    .dataframe thead th {\n",
              "        text-align: right;\n",
              "    }\n",
              "</style>\n",
              "<table border=\"1\" class=\"dataframe\">\n",
              "  <thead>\n",
              "    <tr style=\"text-align: right;\">\n",
              "      <th></th>\n",
              "      <th>0</th>\n",
              "    </tr>\n",
              "  </thead>\n",
              "  <tbody>\n",
              "    <tr>\n",
              "      <th>Unnamed: 0</th>\n",
              "      <td>0</td>\n",
              "    </tr>\n",
              "    <tr>\n",
              "      <th>Email Text</th>\n",
              "      <td>0</td>\n",
              "    </tr>\n",
              "    <tr>\n",
              "      <th>Email Type</th>\n",
              "      <td>0</td>\n",
              "    </tr>\n",
              "  </tbody>\n",
              "</table>\n",
              "</div><br><label><b>dtype:</b> int64</label>"
            ]
          },
          "metadata": {},
          "execution_count": 11
        }
      ],
      "source": [
        "# Hapus Null\n",
        "df = df.dropna()\n",
        "df.isnull().sum()"
      ]
    },
    {
      "cell_type": "markdown",
      "metadata": {
        "id": "zjyQd3K6pnX8"
      },
      "source": [
        "#### 1.5 Analisis Distribusi Data"
      ]
    },
    {
      "cell_type": "code",
      "execution_count": null,
      "metadata": {
        "colab": {
          "base_uri": "https://localhost:8080/",
          "height": 632
        },
        "id": "BjlR29DKpq2l",
        "outputId": "a07c7c30-dbc2-48f2-b924-ef7eab52c8b1"
      },
      "outputs": [
        {
          "output_type": "display_data",
          "data": {
            "text/plain": [
              "<Figure size 1000x600 with 1 Axes>"
            ],
            "image/png": "[encoded data removed]"
          },
          "metadata": {}
        }
      ],
      "source": [
        "plt.figure(figsize=(10, 6))\n",
        "sns.countplot(x='Email Type', data=df)\n",
        "plt.title('Distribusi Jenis Email')\n",
        "plt.xlabel('Tipe Email')\n",
        "plt.ylabel('Total Jumlah')\n",
        "plt.xticks(rotation=45, ha='right')\n",
        "plt.show()"
      ]
    },
    {
      "cell_type": "markdown",
      "metadata": {
        "id": "5N1iRtGAzXia"
      },
      "source": [
        "### **2. Proses Pembersihan**"
      ]
    },
    {
      "cell_type": "markdown",
      "metadata": {
        "id": "tH59yD_Ime7D"
      },
      "source": [
        "#### 2.1 Pembersihan Teks"
      ]
    },
    {
      "cell_type": "code",
      "execution_count": null,
      "metadata": {
        "id": "Drnkt7qPNGsI"
      },
      "outputs": [],
      "source": [
        "# Perubahan teks menjadi kecil\n",
        "def lowercase(review_text):\n",
        "    low = review_text.lower()\n",
        "    return low\n",
        "\n",
        "df['clean_content'] = df['Email Text'].apply(lambda low:lowercase(str(low)))"
      ]
    },
    {
      "cell_type": "code",
      "execution_count": null,
      "metadata": {
        "id": "7_4qquK4Nk7R"
      },
      "outputs": [],
      "source": [
        "# Menghapus URL\n",
        "def clean_url(review_text):\n",
        "  return re.sub(r'http\\S+', '', review_text)\n",
        "df['clean_content'] = df['clean_content'].apply(lambda url:clean_url(str(url)))"
      ]
    },
    {
      "cell_type": "code",
      "execution_count": null,
      "metadata": {
        "id": "izAI1kB9OFEs"
      },
      "outputs": [],
      "source": [
        "# Menghapus Angka dan Tanda Baca\n",
        "def clean_non_alphanumeric(review_text):\n",
        "  return re.sub('[^a-zA-Z]', ' ', review_text)\n",
        "df['clean_content'] = df['clean_content'].apply(clean_non_alphanumeric)"
      ]
    },
    {
      "cell_type": "code",
      "execution_count": null,
      "metadata": {
        "id": "MANqCvd6OeOs"
      },
      "outputs": [],
      "source": [
        "# Menghapus mention\n",
        "def mention_remove(review_text):\n",
        "  return re.sub(r\"@\\w+\", \"\", review_text)\n",
        "df['clean_content'] = df['clean_content'].apply(mention_remove)"
      ]
    },
    {
      "cell_type": "code",
      "execution_count": null,
      "metadata": {
        "id": "iGXvFTJlPMJ4"
      },
      "outputs": [],
      "source": [
        "# Menghapus Hastags\n",
        "def hashtag_remove(review_text):\n",
        "  return re.sub(r\"#\\w+\", \"\", review_text)\n",
        "df['clean_content'] = df['clean_content'].apply(hashtag_remove)"
      ]
    },
    {
      "cell_type": "code",
      "source": [
        "# Remove word repetition\n",
        "def word_repetition(review_text):\n",
        "  review = re.sub(r'(.)\\1+', r'\\1\\1', review_text)\n",
        "  return review\n",
        "\n",
        "df['clean_content'] = df['clean_content'].apply(lambda word: word_repetition(word))"
      ],
      "metadata": {
        "id": "9_8RWzN0uIiW"
      },
      "execution_count": null,
      "outputs": []
    },
    {
      "cell_type": "code",
      "source": [
        "# Menghapus WhiteSpace Huruf\n",
        "def remove_whitespace_LT(review_text):\n",
        "  return review_text.strip()\n",
        "df['clean_content'] = df['clean_content'].apply(remove_whitespace_LT)"
      ],
      "metadata": {
        "id": "K7OiFoebrViw"
      },
      "execution_count": null,
      "outputs": []
    },
    {
      "cell_type": "markdown",
      "metadata": {
        "id": "yxa-tQV7mzn-"
      },
      "source": [
        "#### 2.2 Stopword Removal"
      ]
    },
    {
      "cell_type": "code",
      "execution_count": null,
      "metadata": {
        "id": "amlhdnU2p941",
        "colab": {
          "base_uri": "https://localhost:8080/"
        },
        "outputId": "db0c53f4-9a21-4456-a527-14c9f8f245dc"
      },
      "outputs": [
        {
          "output_type": "execute_result",
          "data": {
            "text/plain": [
              "['i',\n",
              " 'me',\n",
              " 'my',\n",
              " 'myself',\n",
              " 'we',\n",
              " 'our',\n",
              " 'ours',\n",
              " 'ourselves',\n",
              " 'you',\n",
              " \"you're\",\n",
              " \"you've\",\n",
              " \"you'll\",\n",
              " \"you'd\",\n",
              " 'your',\n",
              " 'yours',\n",
              " 'yourself',\n",
              " 'yourselves',\n",
              " 'he',\n",
              " 'him',\n",
              " 'his',\n",
              " 'himself',\n",
              " 'she',\n",
              " \"she's\",\n",
              " 'her',\n",
              " 'hers',\n",
              " 'herself',\n",
              " 'it',\n",
              " \"it's\",\n",
              " 'its',\n",
              " 'itself',\n",
              " 'they',\n",
              " 'them',\n",
              " 'their',\n",
              " 'theirs',\n",
              " 'themselves',\n",
              " 'what',\n",
              " 'which',\n",
              " 'who',\n",
              " 'whom',\n",
              " 'this',\n",
              " 'that',\n",
              " \"that'll\",\n",
              " 'these',\n",
              " 'those',\n",
              " 'am',\n",
              " 'is',\n",
              " 'are',\n",
              " 'was',\n",
              " 'were',\n",
              " 'be',\n",
              " 'been',\n",
              " 'being',\n",
              " 'have',\n",
              " 'has',\n",
              " 'had',\n",
              " 'having',\n",
              " 'do',\n",
              " 'does',\n",
              " 'did',\n",
              " 'doing',\n",
              " 'a',\n",
              " 'an',\n",
              " 'the',\n",
              " 'and',\n",
              " 'but',\n",
              " 'if',\n",
              " 'or',\n",
              " 'because',\n",
              " 'as',\n",
              " 'until',\n",
              " 'while',\n",
              " 'of',\n",
              " 'at',\n",
              " 'by',\n",
              " 'for',\n",
              " 'with',\n",
              " 'about',\n",
              " 'against',\n",
              " 'between',\n",
              " 'into',\n",
              " 'through',\n",
              " 'during',\n",
              " 'before',\n",
              " 'after',\n",
              " 'above',\n",
              " 'below',\n",
              " 'to',\n",
              " 'from',\n",
              " 'up',\n",
              " 'down',\n",
              " 'in',\n",
              " 'out',\n",
              " 'on',\n",
              " 'off',\n",
              " 'over',\n",
              " 'under',\n",
              " 'again',\n",
              " 'further',\n",
              " 'then',\n",
              " 'once',\n",
              " 'here',\n",
              " 'there',\n",
              " 'when',\n",
              " 'where',\n",
              " 'why',\n",
              " 'how',\n",
              " 'all',\n",
              " 'any',\n",
              " 'both',\n",
              " 'each',\n",
              " 'few',\n",
              " 'more',\n",
              " 'most',\n",
              " 'other',\n",
              " 'some',\n",
              " 'such',\n",
              " 'no',\n",
              " 'nor',\n",
              " 'not',\n",
              " 'only',\n",
              " 'own',\n",
              " 'same',\n",
              " 'so',\n",
              " 'than',\n",
              " 'too',\n",
              " 'very',\n",
              " 's',\n",
              " 't',\n",
              " 'can',\n",
              " 'will',\n",
              " 'just',\n",
              " 'don',\n",
              " \"don't\",\n",
              " 'should',\n",
              " \"should've\",\n",
              " 'now',\n",
              " 'd',\n",
              " 'll',\n",
              " 'm',\n",
              " 'o',\n",
              " 're',\n",
              " 've',\n",
              " 'y',\n",
              " 'ain',\n",
              " 'aren',\n",
              " \"aren't\",\n",
              " 'couldn',\n",
              " \"couldn't\",\n",
              " 'didn',\n",
              " \"didn't\",\n",
              " 'doesn',\n",
              " \"doesn't\",\n",
              " 'hadn',\n",
              " \"hadn't\",\n",
              " 'hasn',\n",
              " \"hasn't\",\n",
              " 'haven',\n",
              " \"haven't\",\n",
              " 'isn',\n",
              " \"isn't\",\n",
              " 'ma',\n",
              " 'mightn',\n",
              " \"mightn't\",\n",
              " 'mustn',\n",
              " \"mustn't\",\n",
              " 'needn',\n",
              " \"needn't\",\n",
              " 'shan',\n",
              " \"shan't\",\n",
              " 'shouldn',\n",
              " \"shouldn't\",\n",
              " 'wasn',\n",
              " \"wasn't\",\n",
              " 'weren',\n",
              " \"weren't\",\n",
              " 'won',\n",
              " \"won't\",\n",
              " 'wouldn',\n",
              " \"wouldn't\"]"
            ]
          },
          "metadata": {},
          "execution_count": 20
        }
      ],
      "source": [
        "# Check List Stopword Removal\n",
        "from nltk.corpus import stopwords\n",
        "stopwords.words('english')"
      ]
    },
    {
      "cell_type": "code",
      "source": [
        "# Melakukan Stopword Removal\n",
        "stop_words = set(stopwords.words('english'))\n",
        "def clean_stopwords(review_teks):\n",
        "  review = ' '.join([word for word in review_teks.split() if word not in stop_words])\n",
        "  return review\n",
        "df['clean_content'] = df['clean_content'].apply(clean_stopwords)"
      ],
      "metadata": {
        "id": "QWKTtV2GpNIR"
      },
      "execution_count": null,
      "outputs": []
    },
    {
      "cell_type": "markdown",
      "source": [
        "#### 2.3 Lemmatization"
      ],
      "metadata": {
        "id": "0PEV0ARvqxl3"
      }
    },
    {
      "cell_type": "code",
      "source": [
        "# Mengunduh NLTK Lemmatization\n",
        "import nltk\n",
        "nltk.download('wordnet')"
      ],
      "metadata": {
        "colab": {
          "base_uri": "https://localhost:8080/"
        },
        "id": "ng5NwP6UrEtG",
        "outputId": "43a15724-45ac-4a6b-b242-3d9d8d36f0b6"
      },
      "execution_count": null,
      "outputs": [
        {
          "output_type": "stream",
          "name": "stderr",
          "text": [
            "[nltk_data] Downloading package wordnet to /root/nltk_data...\n"
          ]
        },
        {
          "output_type": "execute_result",
          "data": {
            "text/plain": [
              "True"
            ]
          },
          "metadata": {},
          "execution_count": 22
        }
      ]
    },
    {
      "cell_type": "code",
      "source": [
        "# Melakukan Lemmatization\n",
        "from nltk.stem import WordNetLemmatizer\n",
        "lemmatizer = WordNetLemmatizer()\n",
        "def lemmatization(review_text):\n",
        "  review = ' '.join([lemmatizer.lemmatize(word) for word in review_text.split()])\n",
        "  return review\n",
        "df['clean_content'] = df['clean_content'].apply(lemmatization)"
      ],
      "metadata": {
        "id": "_m5BENAvq0va"
      },
      "execution_count": null,
      "outputs": []
    },
    {
      "cell_type": "markdown",
      "source": [
        "#### 2.4 Stemming"
      ],
      "metadata": {
        "id": "BPS2X-nT9JZa"
      }
    },
    {
      "cell_type": "code",
      "source": [
        "from nltk.stem import PorterStemmer\n",
        "\n",
        "# Melakukan Stemming\n",
        "stemmer = PorterStemmer()\n",
        "def stemming(review_text):\n",
        "    review = ' '.join([stemmer.stem(word) for word in review_text.split()])\n",
        "    return review\n",
        "\n",
        "df['clean_content'] = df['clean_content'].apply(stemming)"
      ],
      "metadata": {
        "id": "4RPWXXbR9LRf"
      },
      "execution_count": null,
      "outputs": []
    },
    {
      "cell_type": "markdown",
      "metadata": {
        "id": "IgXTxdQCqEXT"
      },
      "source": [
        "#### 2.5 Hasil Pembersihan Teks"
      ]
    },
    {
      "cell_type": "code",
      "execution_count": null,
      "metadata": {
        "id": "VWbAXYi1qG_y",
        "colab": {
          "base_uri": "https://localhost:8080/",
          "height": 676
        },
        "outputId": "d1efbcc4-0d8e-4a0a-f536-2c508e7376af"
      },
      "outputs": [
        {
          "output_type": "execute_result",
          "data": {
            "text/plain": [
              "    Unnamed: 0                                         Email Text  \\\n",
              "0            0  re : 6 . 1100 , disc : uniformitarianism , re ...   \n",
              "1            1  the other side of * galicismos * * galicismo *...   \n",
              "2            2  re : equistar deal tickets are you still avail...   \n",
              "3            3  \n",
              "Hello I am your hot lil horny toy.\n",
              "    I am t...   \n",
              "4            4  software at incredibly low prices ( 86 % lower...   \n",
              "5            5  global risk management operations sally congra...   \n",
              "6            6  On Sun, Aug 11, 2002 at 11:17:47AM +0100, wint...   \n",
              "7            7  entourage , stockmogul newsletter ralph velez ...   \n",
              "8            8  we owe you lots of money dear applicant , afte...   \n",
              "9            9  re : coastal deal - with exxon participation u...   \n",
              "10          10  make her beg you to give it to her everynight ...   \n",
              "11          11  URL: http://www.newsisfree.com/click/-5,830431...   \n",
              "12          12  begin forwarded text Date: Wed, 25 Sep 2002 13...   \n",
              "13          13  re : fyi - wellhead portfolio who is considere...   \n",
              "14          14  rmmla / ads * * * * * * * * papers solicited f...   \n",
              "15          15  re : testing ir & fx var nick and winston , i ...   \n",
              "16          16  The academic discipline of Software Engineerin...   \n",
              "17          17  re : 3 . 402 queries : language - speakers , s...   \n",
              "18          18  a resume john , this is a resume i received to...   \n",
              "19          19  EFFector       Vol. 15, No. 35       November ...   \n",
              "\n",
              "        Email Type                                      clean_content  \n",
              "0       Safe Email  disc uniformitarian sex lang dick hudson obser...  \n",
              "1       Safe Email  side galicismo galicismo spanish term name imp...  \n",
              "2       Safe Email  equistar deal ticket still avail assist robert...  \n",
              "3   Phishing Email  hello hot lil horni toy one dream open mind pe...  \n",
              "4   Phishing Email  softwar incred low price lower draperi sevente...  \n",
              "5       Safe Email  global risk manag oper salli congratul new rol...  \n",
              "6       Safe Email  sun aug wintermut mention impress get read lkm...  \n",
              "7   Phishing Email  entourag stockmogul newslett ralph velez genex...  \n",
              "8   Phishing Email  owe lot money dear applic review upon receiv a...  \n",
              "9       Safe Email  coastal deal exxon particip project agreement ...  \n",
              "10  Phishing Email  make beg give everynight pleas partner much be...  \n",
              "11      Safe Email                                   url date img cbc  \n",
              "12      Safe Email  begin forward text date wed sep digit bearer s...  \n",
              "13      Safe Email  fyi wellhead portfolio consid greg sharp orig ...  \n",
              "14      Safe Email  rmmla ad paper solicit rmmla confer conjoint m...  \n",
              "15      Safe Email  test ir fx var nick winston understand ir fx v...  \n",
              "16      Safe Email  academ disciplin softwar engin launch confer s...  \n",
              "17      Safe Email  queri languag speaker syntax text would like a...  \n",
              "18      Safe Email  resum john resum receiv today friend pleas tak...  \n",
              "19      Safe Email  effector vol novemb ren eff orga public electr...  "
            ],
            "text/html": [
              "\n",
              "  <div id=\"df-f1cd1e90-7eaa-4634-8584-69251cdd0fb8\" class=\"colab-df-container\">\n",
              "    <div>\n",
              "<style scoped>\n",
              "    .dataframe tbody tr th:only-of-type {\n",
              "        vertical-align: middle;\n",
              "    }\n",
              "\n",
              "    .dataframe tbody tr th {\n",
              "        vertical-align: top;\n",
              "    }\n",
              "\n",
              "    .dataframe thead th {\n",
              "        text-align: right;\n",
              "    }\n",
              "</style>\n",
              "<table border=\"1\" class=\"dataframe\">\n",
              "  <thead>\n",
              "    <tr style=\"text-align: right;\">\n",
              "      <th></th>\n",
              "      <th>Unnamed: 0</th>\n",
              "      <th>Email Text</th>\n",
              "      <th>Email Type</th>\n",
              "      <th>clean_content</th>\n",
              "    </tr>\n",
              "  </thead>\n",
              "  <tbody>\n",
              "    <tr>\n",
              "      <th>0</th>\n",
              "      <td>0</td>\n",
              "      <td>re : 6 . 1100 , disc : uniformitarianism , re ...</td>\n",
              "      <td>Safe Email</td>\n",
              "      <td>disc uniformitarian sex lang dick hudson obser...</td>\n",
              "    </tr>\n",
              "    <tr>\n",
              "      <th>1</th>\n",
              "      <td>1</td>\n",
              "      <td>the other side of * galicismos * * galicismo *...</td>\n",
              "      <td>Safe Email</td>\n",
              "      <td>side galicismo galicismo spanish term name imp...</td>\n",
              "    </tr>\n",
              "    <tr>\n",
              "      <th>2</th>\n",
              "      <td>2</td>\n",
              "      <td>re : equistar deal tickets are you still avail...</td>\n",
              "      <td>Safe Email</td>\n",
              "      <td>equistar deal ticket still avail assist robert...</td>\n",
              "    </tr>\n",
              "    <tr>\n",
              "      <th>3</th>\n",
              "      <td>3</td>\n",
              "      <td>Hello I am your hot lil horny toy.\n",
              "    I am t...</td>\n",
              "      <td>Phishing Email</td>\n",
              "      <td>hello hot lil horni toy one dream open mind pe...</td>\n",
              "    </tr>\n",
              "    <tr>\n",
              "      <th>4</th>\n",
              "      <td>4</td>\n",
              "      <td>software at incredibly low prices ( 86 % lower...</td>\n",
              "      <td>Phishing Email</td>\n",
              "      <td>softwar incred low price lower draperi sevente...</td>\n",
              "    </tr>\n",
              "    <tr>\n",
              "      <th>5</th>\n",
              "      <td>5</td>\n",
              "      <td>global risk management operations sally congra...</td>\n",
              "      <td>Safe Email</td>\n",
              "      <td>global risk manag oper salli congratul new rol...</td>\n",
              "    </tr>\n",
              "    <tr>\n",
              "      <th>6</th>\n",
              "      <td>6</td>\n",
              "      <td>On Sun, Aug 11, 2002 at 11:17:47AM +0100, wint...</td>\n",
              "      <td>Safe Email</td>\n",
              "      <td>sun aug wintermut mention impress get read lkm...</td>\n",
              "    </tr>\n",
              "    <tr>\n",
              "      <th>7</th>\n",
              "      <td>7</td>\n",
              "      <td>entourage , stockmogul newsletter ralph velez ...</td>\n",
              "      <td>Phishing Email</td>\n",
              "      <td>entourag stockmogul newslett ralph velez genex...</td>\n",
              "    </tr>\n",
              "    <tr>\n",
              "      <th>8</th>\n",
              "      <td>8</td>\n",
              "      <td>we owe you lots of money dear applicant , afte...</td>\n",
              "      <td>Phishing Email</td>\n",
              "      <td>owe lot money dear applic review upon receiv a...</td>\n",
              "    </tr>\n",
              "    <tr>\n",
              "      <th>9</th>\n",
              "      <td>9</td>\n",
              "      <td>re : coastal deal - with exxon participation u...</td>\n",
              "      <td>Safe Email</td>\n",
              "      <td>coastal deal exxon particip project agreement ...</td>\n",
              "    </tr>\n",
              "    <tr>\n",
              "      <th>10</th>\n",
              "      <td>10</td>\n",
              "      <td>make her beg you to give it to her everynight ...</td>\n",
              "      <td>Phishing Email</td>\n",
              "      <td>make beg give everynight pleas partner much be...</td>\n",
              "    </tr>\n",
              "    <tr>\n",
              "      <th>11</th>\n",
              "      <td>11</td>\n",
              "      <td>URL: http://www.newsisfree.com/click/-5,830431...</td>\n",
              "      <td>Safe Email</td>\n",
              "      <td>url date img cbc</td>\n",
              "    </tr>\n",
              "    <tr>\n",
              "      <th>12</th>\n",
              "      <td>12</td>\n",
              "      <td>begin forwarded text Date: Wed, 25 Sep 2002 13...</td>\n",
              "      <td>Safe Email</td>\n",
              "      <td>begin forward text date wed sep digit bearer s...</td>\n",
              "    </tr>\n",
              "    <tr>\n",
              "      <th>13</th>\n",
              "      <td>13</td>\n",
              "      <td>re : fyi - wellhead portfolio who is considere...</td>\n",
              "      <td>Safe Email</td>\n",
              "      <td>fyi wellhead portfolio consid greg sharp orig ...</td>\n",
              "    </tr>\n",
              "    <tr>\n",
              "      <th>14</th>\n",
              "      <td>14</td>\n",
              "      <td>rmmla / ads * * * * * * * * papers solicited f...</td>\n",
              "      <td>Safe Email</td>\n",
              "      <td>rmmla ad paper solicit rmmla confer conjoint m...</td>\n",
              "    </tr>\n",
              "    <tr>\n",
              "      <th>15</th>\n",
              "      <td>15</td>\n",
              "      <td>re : testing ir &amp; fx var nick and winston , i ...</td>\n",
              "      <td>Safe Email</td>\n",
              "      <td>test ir fx var nick winston understand ir fx v...</td>\n",
              "    </tr>\n",
              "    <tr>\n",
              "      <th>16</th>\n",
              "      <td>16</td>\n",
              "      <td>The academic discipline of Software Engineerin...</td>\n",
              "      <td>Safe Email</td>\n",
              "      <td>academ disciplin softwar engin launch confer s...</td>\n",
              "    </tr>\n",
              "    <tr>\n",
              "      <th>17</th>\n",
              "      <td>17</td>\n",
              "      <td>re : 3 . 402 queries : language - speakers , s...</td>\n",
              "      <td>Safe Email</td>\n",
              "      <td>queri languag speaker syntax text would like a...</td>\n",
              "    </tr>\n",
              "    <tr>\n",
              "      <th>18</th>\n",
              "      <td>18</td>\n",
              "      <td>a resume john , this is a resume i received to...</td>\n",
              "      <td>Safe Email</td>\n",
              "      <td>resum john resum receiv today friend pleas tak...</td>\n",
              "    </tr>\n",
              "    <tr>\n",
              "      <th>19</th>\n",
              "      <td>19</td>\n",
              "      <td>EFFector       Vol. 15, No. 35       November ...</td>\n",
              "      <td>Safe Email</td>\n",
              "      <td>effector vol novemb ren eff orga public electr...</td>\n",
              "    </tr>\n",
              "  </tbody>\n",
              "</table>\n",
              "</div>\n",
              "    <div class=\"colab-df-buttons\">\n",
              "\n",
              "  <div class=\"colab-df-container\">\n",
              "    <button class=\"colab-df-convert\" onclick=\"convertToInteractive('df-f1cd1e90-7eaa-4634-8584-69251cdd0fb8')\"\n",
              "            title=\"Convert this dataframe to an interactive table.\"\n",
              "            style=\"display:none;\">\n",
              "\n",
              "  <svg xmlns=\"http://www.w3.org/2000/svg\" height=\"24px\" viewBox=\"0 -960 960 960\">\n",
              "    <path d=\"M120-120v-720h720v720H120Zm60-500h600v-160H180v160Zm220 220h160v-160H400v160Zm0 220h160v-160H400v160ZM180-400h160v-160H180v160Zm440 0h160v-160H620v160ZM180-180h160v-160H180v160Zm440 0h160v-160H620v160Z\"/>\n",
              "  </svg>\n",
              "    </button>\n",
              "\n",
              "  <style>\n",
              "    .colab-df-container {\n",
              "      display:flex;\n",
              "      gap: 12px;\n",
              "    }\n",
              "\n",
              "    .colab-df-convert {\n",
              "      background-color: #E8F0FE;\n",
              "      border: none;\n",
              "      border-radius: 50%;\n",
              "      cursor: pointer;\n",
              "      display: none;\n",
              "      fill: #1967D2;\n",
              "      height: 32px;\n",
              "      padding: 0 0 0 0;\n",
              "      width: 32px;\n",
              "    }\n",
              "\n",
              "    .colab-df-convert:hover {\n",
              "      background-color: #E2EBFA;\n",
              "      box-shadow: 0px 1px 2px rgba(60, 64, 67, 0.3), 0px 1px 3px 1px rgba(60, 64, 67, 0.15);\n",
              "      fill: #174EA6;\n",
              "    }\n",
              "\n",
              "    .colab-df-buttons div {\n",
              "      margin-bottom: 4px;\n",
              "    }\n",
              "\n",
              "    [theme=dark] .colab-df-convert {\n",
              "      background-color: #3B4455;\n",
              "      fill: #D2E3FC;\n",
              "    }\n",
              "\n",
              "    [theme=dark] .colab-df-convert:hover {\n",
              "      background-color: #434B5C;\n",
              "      box-shadow: 0px 1px 3px 1px rgba(0, 0, 0, 0.15);\n",
              "      filter: drop-shadow(0px 1px 2px rgba(0, 0, 0, 0.3));\n",
              "      fill: #FFFFFF;\n",
              "    }\n",
              "  </style>\n",
              "\n",
              "    <script>\n",
              "      const buttonEl =\n",
              "        document.querySelector('#df-f1cd1e90-7eaa-4634-8584-69251cdd0fb8 button.colab-df-convert');\n",
              "      buttonEl.style.display =\n",
              "        google.colab.kernel.accessAllowed ? 'block' : 'none';\n",
              "\n",
              "      async function convertToInteractive(key) {\n",
              "        const element = document.querySelector('#df-f1cd1e90-7eaa-4634-8584-69251cdd0fb8');\n",
              "        const dataTable =\n",
              "          await google.colab.kernel.invokeFunction('convertToInteractive',\n",
              "                                                    [key], {});\n",
              "        if (!dataTable) return;\n",
              "\n",
              "        const docLinkHtml = 'Like what you see? Visit the ' +\n",
              "          '<a target=\"_blank\" href=https://colab.research.google.com/notebooks/data_table.ipynb>data table notebook</a>'\n",
              "          + ' to learn more about interactive tables.';\n",
              "        element.innerHTML = '';\n",
              "        dataTable['output_type'] = 'display_data';\n",
              "        await google.colab.output.renderOutput(dataTable, element);\n",
              "        const docLink = document.createElement('div');\n",
              "        docLink.innerHTML = docLinkHtml;\n",
              "        element.appendChild(docLink);\n",
              "      }\n",
              "    </script>\n",
              "  </div>\n",
              "\n",
              "\n",
              "<div id=\"df-fc503e01-b4f8-468d-af0e-d400119e4851\">\n",
              "  <button class=\"colab-df-quickchart\" onclick=\"quickchart('df-fc503e01-b4f8-468d-af0e-d400119e4851')\"\n",
              "            title=\"Suggest charts\"\n",
              "            style=\"display:none;\">\n",
              "\n",
              "<svg xmlns=\"http://www.w3.org/2000/svg\" height=\"24px\"viewBox=\"0 0 24 24\"\n",
              "     width=\"24px\">\n",
              "    <g>\n",
              "        <path d=\"M19 3H5c-1.1 0-2 .9-2 2v14c0 1.1.9 2 2 2h14c1.1 0 2-.9 2-2V5c0-1.1-.9-2-2-2zM9 17H7v-7h2v7zm4 0h-2V7h2v10zm4 0h-2v-4h2v4z\"/>\n",
              "    </g>\n",
              "</svg>\n",
              "  </button>\n",
              "\n",
              "<style>\n",
              "  .colab-df-quickchart {\n",
              "      --bg-color: #E8F0FE;\n",
              "      --fill-color: #1967D2;\n",
              "      --hover-bg-color: #E2EBFA;\n",
              "      --hover-fill-color: #174EA6;\n",
              "      --disabled-fill-color: #AAA;\n",
              "      --disabled-bg-color: #DDD;\n",
              "  }\n",
              "\n",
              "  [theme=dark] .colab-df-quickchart {\n",
              "      --bg-color: #3B4455;\n",
              "      --fill-color: #D2E3FC;\n",
              "      --hover-bg-color: #434B5C;\n",
              "      --hover-fill-color: #FFFFFF;\n",
              "      --disabled-bg-color: #3B4455;\n",
              "      --disabled-fill-color: #666;\n",
              "  }\n",
              "\n",
              "  .colab-df-quickchart {\n",
              "    background-color: var(--bg-color);\n",
              "    border: none;\n",
              "    border-radius: 50%;\n",
              "    cursor: pointer;\n",
              "    display: none;\n",
              "    fill: var(--fill-color);\n",
              "    height: 32px;\n",
              "    padding: 0;\n",
              "    width: 32px;\n",
              "  }\n",
              "\n",
              "  .colab-df-quickchart:hover {\n",
              "    background-color: var(--hover-bg-color);\n",
              "    box-shadow: 0 1px 2px rgba(60, 64, 67, 0.3), 0 1px 3px 1px rgba(60, 64, 67, 0.15);\n",
              "    fill: var(--button-hover-fill-color);\n",
              "  }\n",
              "\n",
              "  .colab-df-quickchart-complete:disabled,\n",
              "  .colab-df-quickchart-complete:disabled:hover {\n",
              "    background-color: var(--disabled-bg-color);\n",
              "    fill: var(--disabled-fill-color);\n",
              "    box-shadow: none;\n",
              "  }\n",
              "\n",
              "  .colab-df-spinner {\n",
              "    border: 2px solid var(--fill-color);\n",
              "    border-color: transparent;\n",
              "    border-bottom-color: var(--fill-color);\n",
              "    animation:\n",
              "      spin 1s steps(1) infinite;\n",
              "  }\n",
              "\n",
              "  @keyframes spin {\n",
              "    0% {\n",
              "      border-color: transparent;\n",
              "      border-bottom-color: var(--fill-color);\n",
              "      border-left-color: var(--fill-color);\n",
              "    }\n",
              "    20% {\n",
              "      border-color: transparent;\n",
              "      border-left-color: var(--fill-color);\n",
              "      border-top-color: var(--fill-color);\n",
              "    }\n",
              "    30% {\n",
              "      border-color: transparent;\n",
              "      border-left-color: var(--fill-color);\n",
              "      border-top-color: var(--fill-color);\n",
              "      border-right-color: var(--fill-color);\n",
              "    }\n",
              "    40% {\n",
              "      border-color: transparent;\n",
              "      border-right-color: var(--fill-color);\n",
              "      border-top-color: var(--fill-color);\n",
              "    }\n",
              "    60% {\n",
              "      border-color: transparent;\n",
              "      border-right-color: var(--fill-color);\n",
              "    }\n",
              "    80% {\n",
              "      border-color: transparent;\n",
              "      border-right-color: var(--fill-color);\n",
              "      border-bottom-color: var(--fill-color);\n",
              "    }\n",
              "    90% {\n",
              "      border-color: transparent;\n",
              "      border-bottom-color: var(--fill-color);\n",
              "    }\n",
              "  }\n",
              "</style>\n",
              "\n",
              "  <script>\n",
              "    async function quickchart(key) {\n",
              "      const quickchartButtonEl =\n",
              "        document.querySelector('#' + key + ' button');\n",
              "      quickchartButtonEl.disabled = true;  // To prevent multiple clicks.\n",
              "      quickchartButtonEl.classList.add('colab-df-spinner');\n",
              "      try {\n",
              "        const charts = await google.colab.kernel.invokeFunction(\n",
              "            'suggestCharts', [key], {});\n",
              "      } catch (error) {\n",
              "        console.error('Error during call to suggestCharts:', error);\n",
              "      }\n",
              "      quickchartButtonEl.classList.remove('colab-df-spinner');\n",
              "      quickchartButtonEl.classList.add('colab-df-quickchart-complete');\n",
              "    }\n",
              "    (() => {\n",
              "      let quickchartButtonEl =\n",
              "        document.querySelector('#df-fc503e01-b4f8-468d-af0e-d400119e4851 button');\n",
              "      quickchartButtonEl.style.display =\n",
              "        google.colab.kernel.accessAllowed ? 'block' : 'none';\n",
              "    })();\n",
              "  </script>\n",
              "</div>\n",
              "\n",
              "    </div>\n",
              "  </div>\n"
            ],
            "application/vnd.google.colaboratory.intrinsic+json": {
              "type": "dataframe",
              "variable_name": "df",
              "summary": "{\n  \"name\": \"df\",\n  \"rows\": 18634,\n  \"fields\": [\n    {\n      \"column\": \"Unnamed: 0\",\n      \"properties\": {\n        \"dtype\": \"number\",\n        \"std\": 5384,\n        \"min\": 0,\n        \"max\": 18650,\n        \"num_unique_values\": 18634,\n        \"samples\": [\n          6455,\n          7063,\n          43\n        ],\n        \"semantic_type\": \"\",\n        \"description\": \"\"\n      }\n    },\n    {\n      \"column\": \"Email Text\",\n      \"properties\": {\n        \"dtype\": \"string\",\n        \"num_unique_values\": 17537,\n        \"samples\": [\n          \"available for review : massaro 98 - the book listed below is in the linguist office and now available for review . if you are interested in reviewing a book ( or leading a discussion of the book ) ; please contact our book review editor , andrew carnie , at : carnie @ linguistlist . org please include in your request message a brief statement about your research interests , background , affiliation and other information that might be valuable to help us select a suitable reviewer . speech perception massaro , dominic ( 1998 ) perceiving talking faces : from speech perception to a behavioral principle . cambridge : mit press . pattern recognition is deemed central to cognition . it appears to follow an optimal algorithm in a wide variety of behaviors and situations . _ perceiving talking faces _ proposes an invariant law of pattern recognition to describe how multiple sources of continuously perceived information , such as auditory and visual speech input are processed to achieve perception of a category . the book details the author 's extensive series of experiments on the use of multiple cues in speech perception and other domains , and unifies teh results under the fuzzy logical model of perception . the volume includes a cd rom . the reviewer of this volume will be expected to review both the book and the cd rom .\",\n          \"lng contracts i am seeking information on where to find copies of lng contracts that were previously in the domain of the old enron international company . enron north america will be establishing a risk book to manage lng positions on a worldwide basis and we need copies of all contracts to set this up . these contracts may or may not be related to the dabhol project . if you can provide guidance or information as to where to find these contracts , i would appreciate it . you may respond via email or call me at 713 - 853 - 6079 in houston . thank you for your attention .\",\n          \"citizens homelink online banking and investing email dear citizens customer , as a customer of citizens bank , the security of your personal and account information is extremely important to us . by practicing good security habits , you can help us ensure that your private information is protected . our new security system will help you to avoid frequently fraud transactions and to keep your investments in safety . due to technical update we recommend you to reactivate your account . to reactivate your account please start by clicking on this webpage : we appreciate your business . it ' s truly our pleasure to serve you . citizens bank customer care this email is intended for citizens bank users only . ignore it if has been arrived by mistake . member fdic equal housing lender \\u00a9 2003 citizens financial group . all rights reserved .\"\n        ],\n        \"semantic_type\": \"\",\n        \"description\": \"\"\n      }\n    },\n    {\n      \"column\": \"Email Type\",\n      \"properties\": {\n        \"dtype\": \"string\",\n        \"num_unique_values\": 2,\n        \"samples\": [\n          \"Phishing Email\",\n          \"Safe Email\"\n        ],\n        \"semantic_type\": \"\",\n        \"description\": \"\"\n      }\n    },\n    {\n      \"column\": \"clean_content\",\n      \"properties\": {\n        \"dtype\": \"string\",\n        \"num_unique_values\": 17089,\n        \"samples\": [\n          \"meet th march robert confirm meet march th enron repres bill bradford bryan seyfri vasant shanbhogu could pleas advis best hotel could stay overnight close locat vinc kaminski enron corp smith street room houston tx phone fax e mail vkamin enron com\",\n          \"get comfort deserv unsubscrib mail list click send blank messag r superdealsl blf iit demokrito gr paliourg moosq com offer sent optinrealbig com llc w th ave suit westminst co\"\n        ],\n        \"semantic_type\": \"\",\n        \"description\": \"\"\n      }\n    }\n  ]\n}"
            }
          },
          "metadata": {},
          "execution_count": 25
        }
      ],
      "source": [
        "# Hasil Pembersihan (Menampilkan 20 Data)\n",
        "df.head(20)"
      ]
    },
    {
      "cell_type": "markdown",
      "metadata": {
        "id": "jh3FdmjcnBvm"
      },
      "source": [
        "## **Tahap 2: Representasi Teks**"
      ]
    },
    {
      "cell_type": "code",
      "source": [
        "# Tokenisasi\n",
        "from gensim.utils import tokenize\n",
        "df[\"tokenize_text\"] = df.clean_content.apply(lambda x: list(tokenize(x)))\n",
        "\n",
        "df.head(20)"
      ],
      "metadata": {
        "colab": {
          "base_uri": "https://localhost:8080/",
          "height": 676
        },
        "id": "qqIuVwfi-MZs",
        "outputId": "89d48e87-bc31-4529-aaf0-e57aed72fcfc"
      },
      "execution_count": null,
      "outputs": [
        {
          "output_type": "execute_result",
          "data": {
            "text/plain": [
              "    Unnamed: 0                                         Email Text  \\\n",
              "0            0  re : 6 . 1100 , disc : uniformitarianism , re ...   \n",
              "1            1  the other side of * galicismos * * galicismo *...   \n",
              "2            2  re : equistar deal tickets are you still avail...   \n",
              "3            3  \n",
              "Hello I am your hot lil horny toy.\n",
              "    I am t...   \n",
              "4            4  software at incredibly low prices ( 86 % lower...   \n",
              "5            5  global risk management operations sally congra...   \n",
              "6            6  On Sun, Aug 11, 2002 at 11:17:47AM +0100, wint...   \n",
              "7            7  entourage , stockmogul newsletter ralph velez ...   \n",
              "8            8  we owe you lots of money dear applicant , afte...   \n",
              "9            9  re : coastal deal - with exxon participation u...   \n",
              "10          10  make her beg you to give it to her everynight ...   \n",
              "11          11  URL: http://www.newsisfree.com/click/-5,830431...   \n",
              "12          12  begin forwarded text Date: Wed, 25 Sep 2002 13...   \n",
              "13          13  re : fyi - wellhead portfolio who is considere...   \n",
              "14          14  rmmla / ads * * * * * * * * papers solicited f...   \n",
              "15          15  re : testing ir & fx var nick and winston , i ...   \n",
              "16          16  The academic discipline of Software Engineerin...   \n",
              "17          17  re : 3 . 402 queries : language - speakers , s...   \n",
              "18          18  a resume john , this is a resume i received to...   \n",
              "19          19  EFFector       Vol. 15, No. 35       November ...   \n",
              "\n",
              "        Email Type                                      clean_content  \\\n",
              "0       Safe Email  disc uniformitarian sex lang dick hudson obser...   \n",
              "1       Safe Email  side galicismo galicismo spanish term name imp...   \n",
              "2       Safe Email  equistar deal ticket still avail assist robert...   \n",
              "3   Phishing Email  hello hot lil horni toy one dream open mind pe...   \n",
              "4   Phishing Email  softwar incred low price lower draperi sevente...   \n",
              "5       Safe Email  global risk manag oper salli congratul new rol...   \n",
              "6       Safe Email  sun aug wintermut mention impress get read lkm...   \n",
              "7   Phishing Email  entourag stockmogul newslett ralph velez genex...   \n",
              "8   Phishing Email  owe lot money dear applic review upon receiv a...   \n",
              "9       Safe Email  coastal deal exxon particip project agreement ...   \n",
              "10  Phishing Email  make beg give everynight pleas partner much be...   \n",
              "11      Safe Email                                   url date img cbc   \n",
              "12      Safe Email  begin forward text date wed sep digit bearer s...   \n",
              "13      Safe Email  fyi wellhead portfolio consid greg sharp orig ...   \n",
              "14      Safe Email  rmmla ad paper solicit rmmla confer conjoint m...   \n",
              "15      Safe Email  test ir fx var nick winston understand ir fx v...   \n",
              "16      Safe Email  academ disciplin softwar engin launch confer s...   \n",
              "17      Safe Email  queri languag speaker syntax text would like a...   \n",
              "18      Safe Email  resum john resum receiv today friend pleas tak...   \n",
              "19      Safe Email  effector vol novemb ren eff orga public electr...   \n",
              "\n",
              "                                        tokenize_text  \n",
              "0   [disc, uniformitarian, sex, lang, dick, hudson...  \n",
              "1   [side, galicismo, galicismo, spanish, term, na...  \n",
              "2   [equistar, deal, ticket, still, avail, assist,...  \n",
              "3   [hello, hot, lil, horni, toy, one, dream, open...  \n",
              "4   [softwar, incred, low, price, lower, draperi, ...  \n",
              "5   [global, risk, manag, oper, salli, congratul, ...  \n",
              "6   [sun, aug, wintermut, mention, impress, get, r...  \n",
              "7   [entourag, stockmogul, newslett, ralph, velez,...  \n",
              "8   [owe, lot, money, dear, applic, review, upon, ...  \n",
              "9   [coastal, deal, exxon, particip, project, agre...  \n",
              "10  [make, beg, give, everynight, pleas, partner, ...  \n",
              "11                              [url, date, img, cbc]  \n",
              "12  [begin, forward, text, date, wed, sep, digit, ...  \n",
              "13  [fyi, wellhead, portfolio, consid, greg, sharp...  \n",
              "14  [rmmla, ad, paper, solicit, rmmla, confer, con...  \n",
              "15  [test, ir, fx, var, nick, winston, understand,...  \n",
              "16  [academ, disciplin, softwar, engin, launch, co...  \n",
              "17  [queri, languag, speaker, syntax, text, would,...  \n",
              "18  [resum, john, resum, receiv, today, friend, pl...  \n",
              "19  [effector, vol, novemb, ren, eff, orga, public...  "
            ],
            "text/html": [
              "\n",
              "  <div id=\"df-6a0d152e-9b31-484a-89df-e21287a59e22\" class=\"colab-df-container\">\n",
              "    <div>\n",
              "<style scoped>\n",
              "    .dataframe tbody tr th:only-of-type {\n",
              "        vertical-align: middle;\n",
              "    }\n",
              "\n",
              "    .dataframe tbody tr th {\n",
              "        vertical-align: top;\n",
              "    }\n",
              "\n",
              "    .dataframe thead th {\n",
              "        text-align: right;\n",
              "    }\n",
              "</style>\n",
              "<table border=\"1\" class=\"dataframe\">\n",
              "  <thead>\n",
              "    <tr style=\"text-align: right;\">\n",
              "      <th></th>\n",
              "      <th>Unnamed: 0</th>\n",
              "      <th>Email Text</th>\n",
              "      <th>Email Type</th>\n",
              "      <th>clean_content</th>\n",
              "      <th>tokenize_text</th>\n",
              "    </tr>\n",
              "  </thead>\n",
              "  <tbody>\n",
              "    <tr>\n",
              "      <th>0</th>\n",
              "      <td>0</td>\n",
              "      <td>re : 6 . 1100 , disc : uniformitarianism , re ...</td>\n",
              "      <td>Safe Email</td>\n",
              "      <td>disc uniformitarian sex lang dick hudson obser...</td>\n",
              "      <td>[disc, uniformitarian, sex, lang, dick, hudson...</td>\n",
              "    </tr>\n",
              "    <tr>\n",
              "      <th>1</th>\n",
              "      <td>1</td>\n",
              "      <td>the other side of * galicismos * * galicismo *...</td>\n",
              "      <td>Safe Email</td>\n",
              "      <td>side galicismo galicismo spanish term name imp...</td>\n",
              "      <td>[side, galicismo, galicismo, spanish, term, na...</td>\n",
              "    </tr>\n",
              "    <tr>\n",
              "      <th>2</th>\n",
              "      <td>2</td>\n",
              "      <td>re : equistar deal tickets are you still avail...</td>\n",
              "      <td>Safe Email</td>\n",
              "      <td>equistar deal ticket still avail assist robert...</td>\n",
              "      <td>[equistar, deal, ticket, still, avail, assist,...</td>\n",
              "    </tr>\n",
              "    <tr>\n",
              "      <th>3</th>\n",
              "      <td>3</td>\n",
              "      <td>Hello I am your hot lil horny toy.\n",
              "    I am t...</td>\n",
              "      <td>Phishing Email</td>\n",
              "      <td>hello hot lil horni toy one dream open mind pe...</td>\n",
              "      <td>[hello, hot, lil, horni, toy, one, dream, open...</td>\n",
              "    </tr>\n",
              "    <tr>\n",
              "      <th>4</th>\n",
              "      <td>4</td>\n",
              "      <td>software at incredibly low prices ( 86 % lower...</td>\n",
              "      <td>Phishing Email</td>\n",
              "      <td>softwar incred low price lower draperi sevente...</td>\n",
              "      <td>[softwar, incred, low, price, lower, draperi, ...</td>\n",
              "    </tr>\n",
              "    <tr>\n",
              "      <th>5</th>\n",
              "      <td>5</td>\n",
              "      <td>global risk management operations sally congra...</td>\n",
              "      <td>Safe Email</td>\n",
              "      <td>global risk manag oper salli congratul new rol...</td>\n",
              "      <td>[global, risk, manag, oper, salli, congratul, ...</td>\n",
              "    </tr>\n",
              "    <tr>\n",
              "      <th>6</th>\n",
              "      <td>6</td>\n",
              "      <td>On Sun, Aug 11, 2002 at 11:17:47AM +0100, wint...</td>\n",
              "      <td>Safe Email</td>\n",
              "      <td>sun aug wintermut mention impress get read lkm...</td>\n",
              "      <td>[sun, aug, wintermut, mention, impress, get, r...</td>\n",
              "    </tr>\n",
              "    <tr>\n",
              "      <th>7</th>\n",
              "      <td>7</td>\n",
              "      <td>entourage , stockmogul newsletter ralph velez ...</td>\n",
              "      <td>Phishing Email</td>\n",
              "      <td>entourag stockmogul newslett ralph velez genex...</td>\n",
              "      <td>[entourag, stockmogul, newslett, ralph, velez,...</td>\n",
              "    </tr>\n",
              "    <tr>\n",
              "      <th>8</th>\n",
              "      <td>8</td>\n",
              "      <td>we owe you lots of money dear applicant , afte...</td>\n",
              "      <td>Phishing Email</td>\n",
              "      <td>owe lot money dear applic review upon receiv a...</td>\n",
              "      <td>[owe, lot, money, dear, applic, review, upon, ...</td>\n",
              "    </tr>\n",
              "    <tr>\n",
              "      <th>9</th>\n",
              "      <td>9</td>\n",
              "      <td>re : coastal deal - with exxon participation u...</td>\n",
              "      <td>Safe Email</td>\n",
              "      <td>coastal deal exxon particip project agreement ...</td>\n",
              "      <td>[coastal, deal, exxon, particip, project, agre...</td>\n",
              "    </tr>\n",
              "    <tr>\n",
              "      <th>10</th>\n",
              "      <td>10</td>\n",
              "      <td>make her beg you to give it to her everynight ...</td>\n",
              "      <td>Phishing Email</td>\n",
              "      <td>make beg give everynight pleas partner much be...</td>\n",
              "      <td>[make, beg, give, everynight, pleas, partner, ...</td>\n",
              "    </tr>\n",
              "    <tr>\n",
              "      <th>11</th>\n",
              "      <td>11</td>\n",
              "      <td>URL: http://www.newsisfree.com/click/-5,830431...</td>\n",
              "      <td>Safe Email</td>\n",
              "      <td>url date img cbc</td>\n",
              "      <td>[url, date, img, cbc]</td>\n",
              "    </tr>\n",
              "    <tr>\n",
              "      <th>12</th>\n",
              "      <td>12</td>\n",
              "      <td>begin forwarded text Date: Wed, 25 Sep 2002 13...</td>\n",
              "      <td>Safe Email</td>\n",
              "      <td>begin forward text date wed sep digit bearer s...</td>\n",
              "      <td>[begin, forward, text, date, wed, sep, digit, ...</td>\n",
              "    </tr>\n",
              "    <tr>\n",
              "      <th>13</th>\n",
              "      <td>13</td>\n",
              "      <td>re : fyi - wellhead portfolio who is considere...</td>\n",
              "      <td>Safe Email</td>\n",
              "      <td>fyi wellhead portfolio consid greg sharp orig ...</td>\n",
              "      <td>[fyi, wellhead, portfolio, consid, greg, sharp...</td>\n",
              "    </tr>\n",
              "    <tr>\n",
              "      <th>14</th>\n",
              "      <td>14</td>\n",
              "      <td>rmmla / ads * * * * * * * * papers solicited f...</td>\n",
              "      <td>Safe Email</td>\n",
              "      <td>rmmla ad paper solicit rmmla confer conjoint m...</td>\n",
              "      <td>[rmmla, ad, paper, solicit, rmmla, confer, con...</td>\n",
              "    </tr>\n",
              "    <tr>\n",
              "      <th>15</th>\n",
              "      <td>15</td>\n",
              "      <td>re : testing ir &amp; fx var nick and winston , i ...</td>\n",
              "      <td>Safe Email</td>\n",
              "      <td>test ir fx var nick winston understand ir fx v...</td>\n",
              "      <td>[test, ir, fx, var, nick, winston, understand,...</td>\n",
              "    </tr>\n",
              "    <tr>\n",
              "      <th>16</th>\n",
              "      <td>16</td>\n",
              "      <td>The academic discipline of Software Engineerin...</td>\n",
              "      <td>Safe Email</td>\n",
              "      <td>academ disciplin softwar engin launch confer s...</td>\n",
              "      <td>[academ, disciplin, softwar, engin, launch, co...</td>\n",
              "    </tr>\n",
              "    <tr>\n",
              "      <th>17</th>\n",
              "      <td>17</td>\n",
              "      <td>re : 3 . 402 queries : language - speakers , s...</td>\n",
              "      <td>Safe Email</td>\n",
              "      <td>queri languag speaker syntax text would like a...</td>\n",
              "      <td>[queri, languag, speaker, syntax, text, would,...</td>\n",
              "    </tr>\n",
              "    <tr>\n",
              "      <th>18</th>\n",
              "      <td>18</td>\n",
              "      <td>a resume john , this is a resume i received to...</td>\n",
              "      <td>Safe Email</td>\n",
              "      <td>resum john resum receiv today friend pleas tak...</td>\n",
              "      <td>[resum, john, resum, receiv, today, friend, pl...</td>\n",
              "    </tr>\n",
              "    <tr>\n",
              "      <th>19</th>\n",
              "      <td>19</td>\n",
              "      <td>EFFector       Vol. 15, No. 35       November ...</td>\n",
              "      <td>Safe Email</td>\n",
              "      <td>effector vol novemb ren eff orga public electr...</td>\n",
              "      <td>[effector, vol, novemb, ren, eff, orga, public...</td>\n",
              "    </tr>\n",
              "  </tbody>\n",
              "</table>\n",
              "</div>\n",
              "    <div class=\"colab-df-buttons\">\n",
              "\n",
              "  <div class=\"colab-df-container\">\n",
              "    <button class=\"colab-df-convert\" onclick=\"convertToInteractive('df-6a0d152e-9b31-484a-89df-e21287a59e22')\"\n",
              "            title=\"Convert this dataframe to an interactive table.\"\n",
              "            style=\"display:none;\">\n",
              "\n",
              "  <svg xmlns=\"http://www.w3.org/2000/svg\" height=\"24px\" viewBox=\"0 -960 960 960\">\n",
              "    <path d=\"M120-120v-720h720v720H120Zm60-500h600v-160H180v160Zm220 220h160v-160H400v160Zm0 220h160v-160H400v160ZM180-400h160v-160H180v160Zm440 0h160v-160H620v160ZM180-180h160v-160H180v160Zm440 0h160v-160H620v160Z\"/>\n",
              "  </svg>\n",
              "    </button>\n",
              "\n",
              "  <style>\n",
              "    .colab-df-container {\n",
              "      display:flex;\n",
              "      gap: 12px;\n",
              "    }\n",
              "\n",
              "    .colab-df-convert {\n",
              "      background-color: #E8F0FE;\n",
              "      border: none;\n",
              "      border-radius: 50%;\n",
              "      cursor: pointer;\n",
              "      display: none;\n",
              "      fill: #1967D2;\n",
              "      height: 32px;\n",
              "      padding: 0 0 0 0;\n",
              "      width: 32px;\n",
              "    }\n",
              "\n",
              "    .colab-df-convert:hover {\n",
              "      background-color: #E2EBFA;\n",
              "      box-shadow: 0px 1px 2px rgba(60, 64, 67, 0.3), 0px 1px 3px 1px rgba(60, 64, 67, 0.15);\n",
              "      fill: #174EA6;\n",
              "    }\n",
              "\n",
              "    .colab-df-buttons div {\n",
              "      margin-bottom: 4px;\n",
              "    }\n",
              "\n",
              "    [theme=dark] .colab-df-convert {\n",
              "      background-color: #3B4455;\n",
              "      fill: #D2E3FC;\n",
              "    }\n",
              "\n",
              "    [theme=dark] .colab-df-convert:hover {\n",
              "      background-color: #434B5C;\n",
              "      box-shadow: 0px 1px 3px 1px rgba(0, 0, 0, 0.15);\n",
              "      filter: drop-shadow(0px 1px 2px rgba(0, 0, 0, 0.3));\n",
              "      fill: #FFFFFF;\n",
              "    }\n",
              "  </style>\n",
              "\n",
              "    <script>\n",
              "      const buttonEl =\n",
              "        document.querySelector('#df-6a0d152e-9b31-484a-89df-e21287a59e22 button.colab-df-convert');\n",
              "      buttonEl.style.display =\n",
              "        google.colab.kernel.accessAllowed ? 'block' : 'none';\n",
              "\n",
              "      async function convertToInteractive(key) {\n",
              "        const element = document.querySelector('#df-6a0d152e-9b31-484a-89df-e21287a59e22');\n",
              "        const dataTable =\n",
              "          await google.colab.kernel.invokeFunction('convertToInteractive',\n",
              "                                                    [key], {});\n",
              "        if (!dataTable) return;\n",
              "\n",
              "        const docLinkHtml = 'Like what you see? Visit the ' +\n",
              "          '<a target=\"_blank\" href=https://colab.research.google.com/notebooks/data_table.ipynb>data table notebook</a>'\n",
              "          + ' to learn more about interactive tables.';\n",
              "        element.innerHTML = '';\n",
              "        dataTable['output_type'] = 'display_data';\n",
              "        await google.colab.output.renderOutput(dataTable, element);\n",
              "        const docLink = document.createElement('div');\n",
              "        docLink.innerHTML = docLinkHtml;\n",
              "        element.appendChild(docLink);\n",
              "      }\n",
              "    </script>\n",
              "  </div>\n",
              "\n",
              "\n",
              "<div id=\"df-5c70d3a5-5f68-44a3-8890-d06375598558\">\n",
              "  <button class=\"colab-df-quickchart\" onclick=\"quickchart('df-5c70d3a5-5f68-44a3-8890-d06375598558')\"\n",
              "            title=\"Suggest charts\"\n",
              "            style=\"display:none;\">\n",
              "\n",
              "<svg xmlns=\"http://www.w3.org/2000/svg\" height=\"24px\"viewBox=\"0 0 24 24\"\n",
              "     width=\"24px\">\n",
              "    <g>\n",
              "        <path d=\"M19 3H5c-1.1 0-2 .9-2 2v14c0 1.1.9 2 2 2h14c1.1 0 2-.9 2-2V5c0-1.1-.9-2-2-2zM9 17H7v-7h2v7zm4 0h-2V7h2v10zm4 0h-2v-4h2v4z\"/>\n",
              "    </g>\n",
              "</svg>\n",
              "  </button>\n",
              "\n",
              "<style>\n",
              "  .colab-df-quickchart {\n",
              "      --bg-color: #E8F0FE;\n",
              "      --fill-color: #1967D2;\n",
              "      --hover-bg-color: #E2EBFA;\n",
              "      --hover-fill-color: #174EA6;\n",
              "      --disabled-fill-color: #AAA;\n",
              "      --disabled-bg-color: #DDD;\n",
              "  }\n",
              "\n",
              "  [theme=dark] .colab-df-quickchart {\n",
              "      --bg-color: #3B4455;\n",
              "      --fill-color: #D2E3FC;\n",
              "      --hover-bg-color: #434B5C;\n",
              "      --hover-fill-color: #FFFFFF;\n",
              "      --disabled-bg-color: #3B4455;\n",
              "      --disabled-fill-color: #666;\n",
              "  }\n",
              "\n",
              "  .colab-df-quickchart {\n",
              "    background-color: var(--bg-color);\n",
              "    border: none;\n",
              "    border-radius: 50%;\n",
              "    cursor: pointer;\n",
              "    display: none;\n",
              "    fill: var(--fill-color);\n",
              "    height: 32px;\n",
              "    padding: 0;\n",
              "    width: 32px;\n",
              "  }\n",
              "\n",
              "  .colab-df-quickchart:hover {\n",
              "    background-color: var(--hover-bg-color);\n",
              "    box-shadow: 0 1px 2px rgba(60, 64, 67, 0.3), 0 1px 3px 1px rgba(60, 64, 67, 0.15);\n",
              "    fill: var(--button-hover-fill-color);\n",
              "  }\n",
              "\n",
              "  .colab-df-quickchart-complete:disabled,\n",
              "  .colab-df-quickchart-complete:disabled:hover {\n",
              "    background-color: var(--disabled-bg-color);\n",
              "    fill: var(--disabled-fill-color);\n",
              "    box-shadow: none;\n",
              "  }\n",
              "\n",
              "  .colab-df-spinner {\n",
              "    border: 2px solid var(--fill-color);\n",
              "    border-color: transparent;\n",
              "    border-bottom-color: var(--fill-color);\n",
              "    animation:\n",
              "      spin 1s steps(1) infinite;\n",
              "  }\n",
              "\n",
              "  @keyframes spin {\n",
              "    0% {\n",
              "      border-color: transparent;\n",
              "      border-bottom-color: var(--fill-color);\n",
              "      border-left-color: var(--fill-color);\n",
              "    }\n",
              "    20% {\n",
              "      border-color: transparent;\n",
              "      border-left-color: var(--fill-color);\n",
              "      border-top-color: var(--fill-color);\n",
              "    }\n",
              "    30% {\n",
              "      border-color: transparent;\n",
              "      border-left-color: var(--fill-color);\n",
              "      border-top-color: var(--fill-color);\n",
              "      border-right-color: var(--fill-color);\n",
              "    }\n",
              "    40% {\n",
              "      border-color: transparent;\n",
              "      border-right-color: var(--fill-color);\n",
              "      border-top-color: var(--fill-color);\n",
              "    }\n",
              "    60% {\n",
              "      border-color: transparent;\n",
              "      border-right-color: var(--fill-color);\n",
              "    }\n",
              "    80% {\n",
              "      border-color: transparent;\n",
              "      border-right-color: var(--fill-color);\n",
              "      border-bottom-color: var(--fill-color);\n",
              "    }\n",
              "    90% {\n",
              "      border-color: transparent;\n",
              "      border-bottom-color: var(--fill-color);\n",
              "    }\n",
              "  }\n",
              "</style>\n",
              "\n",
              "  <script>\n",
              "    async function quickchart(key) {\n",
              "      const quickchartButtonEl =\n",
              "        document.querySelector('#' + key + ' button');\n",
              "      quickchartButtonEl.disabled = true;  // To prevent multiple clicks.\n",
              "      quickchartButtonEl.classList.add('colab-df-spinner');\n",
              "      try {\n",
              "        const charts = await google.colab.kernel.invokeFunction(\n",
              "            'suggestCharts', [key], {});\n",
              "      } catch (error) {\n",
              "        console.error('Error during call to suggestCharts:', error);\n",
              "      }\n",
              "      quickchartButtonEl.classList.remove('colab-df-spinner');\n",
              "      quickchartButtonEl.classList.add('colab-df-quickchart-complete');\n",
              "    }\n",
              "    (() => {\n",
              "      let quickchartButtonEl =\n",
              "        document.querySelector('#df-5c70d3a5-5f68-44a3-8890-d06375598558 button');\n",
              "      quickchartButtonEl.style.display =\n",
              "        google.colab.kernel.accessAllowed ? 'block' : 'none';\n",
              "    })();\n",
              "  </script>\n",
              "</div>\n",
              "\n",
              "    </div>\n",
              "  </div>\n"
            ],
            "application/vnd.google.colaboratory.intrinsic+json": {
              "type": "dataframe",
              "variable_name": "df",
              "summary": "{\n  \"name\": \"df\",\n  \"rows\": 18634,\n  \"fields\": [\n    {\n      \"column\": \"Unnamed: 0\",\n      \"properties\": {\n        \"dtype\": \"number\",\n        \"std\": 5384,\n        \"min\": 0,\n        \"max\": 18650,\n        \"num_unique_values\": 18634,\n        \"samples\": [\n          6455,\n          7063,\n          43\n        ],\n        \"semantic_type\": \"\",\n        \"description\": \"\"\n      }\n    },\n    {\n      \"column\": \"Email Text\",\n      \"properties\": {\n        \"dtype\": \"string\",\n        \"num_unique_values\": 17537,\n        \"samples\": [\n          \"available for review : massaro 98 - the book listed below is in the linguist office and now available for review . if you are interested in reviewing a book ( or leading a discussion of the book ) ; please contact our book review editor , andrew carnie , at : carnie @ linguistlist . org please include in your request message a brief statement about your research interests , background , affiliation and other information that might be valuable to help us select a suitable reviewer . speech perception massaro , dominic ( 1998 ) perceiving talking faces : from speech perception to a behavioral principle . cambridge : mit press . pattern recognition is deemed central to cognition . it appears to follow an optimal algorithm in a wide variety of behaviors and situations . _ perceiving talking faces _ proposes an invariant law of pattern recognition to describe how multiple sources of continuously perceived information , such as auditory and visual speech input are processed to achieve perception of a category . the book details the author 's extensive series of experiments on the use of multiple cues in speech perception and other domains , and unifies teh results under the fuzzy logical model of perception . the volume includes a cd rom . the reviewer of this volume will be expected to review both the book and the cd rom .\",\n          \"lng contracts i am seeking information on where to find copies of lng contracts that were previously in the domain of the old enron international company . enron north america will be establishing a risk book to manage lng positions on a worldwide basis and we need copies of all contracts to set this up . these contracts may or may not be related to the dabhol project . if you can provide guidance or information as to where to find these contracts , i would appreciate it . you may respond via email or call me at 713 - 853 - 6079 in houston . thank you for your attention .\",\n          \"citizens homelink online banking and investing email dear citizens customer , as a customer of citizens bank , the security of your personal and account information is extremely important to us . by practicing good security habits , you can help us ensure that your private information is protected . our new security system will help you to avoid frequently fraud transactions and to keep your investments in safety . due to technical update we recommend you to reactivate your account . to reactivate your account please start by clicking on this webpage : we appreciate your business . it ' s truly our pleasure to serve you . citizens bank customer care this email is intended for citizens bank users only . ignore it if has been arrived by mistake . member fdic equal housing lender \\u00a9 2003 citizens financial group . all rights reserved .\"\n        ],\n        \"semantic_type\": \"\",\n        \"description\": \"\"\n      }\n    },\n    {\n      \"column\": \"Email Type\",\n      \"properties\": {\n        \"dtype\": \"string\",\n        \"num_unique_values\": 2,\n        \"samples\": [\n          \"Phishing Email\",\n          \"Safe Email\"\n        ],\n        \"semantic_type\": \"\",\n        \"description\": \"\"\n      }\n    },\n    {\n      \"column\": \"clean_content\",\n      \"properties\": {\n        \"dtype\": \"string\",\n        \"num_unique_values\": 17089,\n        \"samples\": [\n          \"meet th march robert confirm meet march th enron repres bill bradford bryan seyfri vasant shanbhogu could pleas advis best hotel could stay overnight close locat vinc kaminski enron corp smith street room houston tx phone fax e mail vkamin enron com\",\n          \"get comfort deserv unsubscrib mail list click send blank messag r superdealsl blf iit demokrito gr paliourg moosq com offer sent optinrealbig com llc w th ave suit westminst co\"\n        ],\n        \"semantic_type\": \"\",\n        \"description\": \"\"\n      }\n    },\n    {\n      \"column\": \"tokenize_text\",\n      \"properties\": {\n        \"dtype\": \"object\",\n        \"semantic_type\": \"\",\n        \"description\": \"\"\n      }\n    }\n  ]\n}"
            }
          },
          "metadata": {},
          "execution_count": 26
        }
      ]
    },
    {
      "cell_type": "markdown",
      "metadata": {
        "id": "FVWi0Kk1qRma"
      },
      "source": [
        "### **3. Text Vectorization**"
      ]
    },
    {
      "cell_type": "markdown",
      "source": [
        "#### 3.1 Word2Vec"
      ],
      "metadata": {
        "id": "lvr4OWa7_EH6"
      }
    },
    {
      "cell_type": "code",
      "source": [
        "# Download the 'punkt_tab' data package\n",
        "nltk.download('punkt_tab')"
      ],
      "metadata": {
        "colab": {
          "base_uri": "https://localhost:8080/"
        },
        "id": "Usm2Zoy4_WoC",
        "outputId": "0001be72-818b-45ed-a86a-7db9a3a9d516"
      },
      "execution_count": null,
      "outputs": [
        {
          "output_type": "stream",
          "name": "stderr",
          "text": [
            "[nltk_data] Downloading package punkt_tab to /root/nltk_data...\n",
            "[nltk_data]   Unzipping tokenizers/punkt_tab.zip.\n"
          ]
        },
        {
          "output_type": "execute_result",
          "data": {
            "text/plain": [
              "True"
            ]
          },
          "metadata": {},
          "execution_count": 27
        }
      ]
    },
    {
      "cell_type": "code",
      "source": [
        "from gensim.models import Word2Vec\n",
        "\n",
        "# define the model\n",
        "model_wikihow = Word2Vec(\n",
        "    window=10,\n",
        "    min_count=5,\n",
        "    workers=4,\n",
        "    epochs=10,\n",
        ")"
      ],
      "metadata": {
        "id": "fqS6F-hA_Hlj"
      },
      "execution_count": null,
      "outputs": []
    },
    {
      "cell_type": "code",
      "source": [
        "model_wikihow.build_vocab(df.tokenize_text, progress_per=1000)\n",
        "\n",
        "# train the model\n",
        "model_wikihow.train(df.tokenize_text, total_examples=model_wikihow.corpus_count, epochs=model_wikihow.epochs)\n",
        "\n",
        "model_wikihow_path = r'/content/drive/MyDrive/Dataset/word2vec.model'\n",
        "\n",
        "# save the model\n",
        "model_wikihow.save(model_wikihow_path)\n",
        "\n",
        "# load the model\n",
        "model_wikihow = Word2Vec.load(model_wikihow_path)"
      ],
      "metadata": {
        "id": "l9W3NNoV_aYc"
      },
      "execution_count": null,
      "outputs": []
    },
    {
      "cell_type": "code",
      "source": [
        "model_wikihow.wv.most_similar(\"syntax\")"
      ],
      "metadata": {
        "colab": {
          "base_uri": "https://localhost:8080/"
        },
        "id": "cD2gF0QX_w8m",
        "outputId": "52653138-4b6c-456a-8561-94addea2597a"
      },
      "execution_count": null,
      "outputs": [
        {
          "output_type": "execute_result",
          "data": {
            "text/plain": [
              "[('morpholog', 0.7963241338729858),\n",
              " ('phonolog', 0.7613644003868103),\n",
              " ('syntact', 0.7576550245285034),\n",
              " ('semant', 0.744854211807251),\n",
              " ('pragmat', 0.7181645035743713),\n",
              " ('grammar', 0.7094539999961853),\n",
              " ('zubizarreta', 0.6812353730201721),\n",
              " ('diachron', 0.680860161781311),\n",
              " ('predic', 0.6787002086639404),\n",
              " ('typolog', 0.6753910183906555)]"
            ]
          },
          "metadata": {},
          "execution_count": 30
        }
      ]
    },
    {
      "cell_type": "markdown",
      "source": [
        "#### 3.2 Visualisasi Word2Vec dengan PCA"
      ],
      "metadata": {
        "id": "l3Zhto7RAbid"
      }
    },
    {
      "cell_type": "code",
      "source": [
        "words = ['test', 'portfolio', 'date', 'make', 'attribut', 'son', 'like', 'side',\n",
        "        'slice', 'ticket', 'deal', 'assist', 'one', 'dream', 'so',\n",
        "         'equistar' , 'low' , 'beg' , 'still', 'avail' , 'begin', 'robert' ,\n",
        "         'enter' , 'new' , 'who', 'disciplin' , 'forward' , 'talk' , 'bryan' , 'hull' ,\n",
        "         'anita' , 'luong']"
      ],
      "metadata": {
        "id": "FecqY70LAghN"
      },
      "execution_count": null,
      "outputs": []
    },
    {
      "cell_type": "code",
      "source": [
        "# Store the words vector in list\n",
        "word_vector = []\n",
        "\n",
        "for word in words:\n",
        "  word_vector.append(model_wikihow.wv.get_vector(word))\n",
        "\n",
        "word_vector[0]"
      ],
      "metadata": {
        "colab": {
          "base_uri": "https://localhost:8080/"
        },
        "id": "eUkrzs6vBnAc",
        "outputId": "4fed37b0-98fb-45ec-fb24-70639757a78a"
      },
      "execution_count": null,
      "outputs": [
        {
          "output_type": "execute_result",
          "data": {
            "text/plain": [
              "array([ 0.9054907 ,  1.3172671 ,  0.8966317 ,  2.4070523 ,  1.2406932 ,\n",
              "        1.3756161 , -0.38732448, -2.7637877 ,  0.33086684, -0.89455456,\n",
              "       -0.50927603,  1.2567075 , -2.2706852 , -1.7725469 , -0.49892497,\n",
              "       -1.6469692 ,  0.02918161, -3.0339024 , -2.8957164 ,  0.33050734,\n",
              "        1.1951823 ,  3.5748127 , -0.20060444,  1.1357499 ,  1.3429818 ,\n",
              "       -2.0925927 , -0.36917895, -0.5294947 ,  0.83365285,  1.8774296 ,\n",
              "       -3.777386  , -0.26501122, -0.4147127 , -0.5408409 , -3.2998233 ,\n",
              "       -0.18389316, -0.5061582 ,  1.2768813 ,  2.263904  , -0.37583083,\n",
              "       -4.051732  ,  0.02669591, -1.9864773 , -1.5921726 ,  1.6493679 ,\n",
              "       -0.27030343,  0.13111965, -0.8064949 ,  2.9757679 ,  2.939874  ,\n",
              "       -2.4920409 ,  2.35082   , -0.48342153, -0.1708726 , -2.1180706 ,\n",
              "       -3.7354605 ,  1.3500566 , -2.4322715 ,  0.7456861 ,  1.3602909 ,\n",
              "        0.60835916,  1.4452922 ,  0.09989337, -1.9239398 ,  0.17580613,\n",
              "        0.6760006 ,  2.4339309 , -1.7680818 ,  2.1266692 , -0.4836214 ,\n",
              "       -0.05935993,  1.2195697 ,  0.13789847, -3.1294186 ,  0.84637266,\n",
              "        1.8619034 ,  1.2137475 ,  2.2152536 , -0.7351889 ,  0.334586  ,\n",
              "        0.51396596, -1.5380884 , -0.5317129 , -1.6028154 ,  1.2512822 ,\n",
              "        1.7660446 ,  0.4273566 , -1.3632661 ,  0.19284254,  1.7753885 ,\n",
              "       -2.2625914 ,  0.71103275,  1.2361586 ,  1.4740069 , -2.7331524 ,\n",
              "        1.1389029 ,  1.5603985 ,  0.94404125,  0.7510009 , -4.724315  ],\n",
              "      dtype=float32)"
            ]
          },
          "metadata": {},
          "execution_count": 32
        }
      ]
    },
    {
      "cell_type": "code",
      "source": [
        "from sklearn.decomposition import PCA\n",
        "\n",
        "# transforming words vector\n",
        "pca = PCA(n_components=2)\n",
        "result = pca.fit_transform(word_vector)"
      ],
      "metadata": {
        "id": "x8srjqQ4Bych"
      },
      "execution_count": null,
      "outputs": []
    },
    {
      "cell_type": "code",
      "source": [
        "import plotly.express as px\n",
        "\n",
        "# Create the scatter plot\n",
        "fig = px.scatter(x=result[:, 0], y=result[:, 1])\n",
        "\n",
        "# Annotate each data point\n",
        "for i, txt in enumerate(words):\n",
        "    fig.add_annotation(\n",
        "        x=result[i, 0],\n",
        "        y=result[i, 1],\n",
        "        text=txt,\n",
        "        xref=\"x\",\n",
        "        yref=\"y\",\n",
        "        showarrow=True,\n",
        "        arrowhead=7,\n",
        "        ax=20,\n",
        "        ay=-30\n",
        "    )\n",
        "\n",
        "# adjust graph size\n",
        "fig.update_layout(\n",
        "    height=1200,\n",
        "    width=1200,\n",
        "    title='Visualisasi Kata-kata Bahasa Inggris'\n",
        ")\n",
        "\n",
        "# Show the plot\n",
        "fig.show()"
      ],
      "metadata": {
        "colab": {
          "base_uri": "https://localhost:8080/",
          "height": 1000
        },
        "id": "RBlVAc4pB5dg",
        "outputId": "58f3e8ac-1001-4272-9a58-6ac4368a1300"
      },
      "execution_count": null,
      "outputs": [
        {
          "output_type": "display_data",
          "data": {
            "text/html": [
              "<html>\n",
              "<head><meta charset=\"utf-8\" /></head>\n",
              "<body>\n",
              "    <div>            <script src=\"https://cdnjs.cloudflare.com/ajax/libs/mathjax/2.7.5/MathJax.js?config=TeX-AMS-MML_SVG\"></script><script type=\"text/javascript\">if (window.MathJax && window.MathJax.Hub && window.MathJax.Hub.Config) {window.MathJax.Hub.Config({SVG: {font: \"STIX-Web\"}});}</script>                <script type=\"text/javascript\">window.PlotlyConfig = {MathJaxConfig: 'local'};</script>\n",
              "        <script charset=\"utf-8\" src=\"https://cdn.plot.ly/plotly-2.35.2.min.js\"></script>                <div id=\"90074394-bf39-4f5e-a3f0-6c0e88a1ab56\" class=\"plotly-graph-div\" style=\"height:1200px; width:1200px;\"></div>            <script type=\"text/javascript\">                                    window.PLOTLYENV=window.PLOTLYENV || {};                                    if (document.getElementById(\"90074394-bf39-4f5e-a3f0-6c0e88a1ab56\")) {                    Plotly.newPlot(                        \"90074394-bf39-4f5e-a3f0-6c0e88a1ab56\",                        [{\"hovertemplate\":\"x=%{x}\\u003cbr\\u003ey=%{y}\\u003cextra\\u003e\\u003c\\u002fextra\\u003e\",\"legendgroup\":\"\",\"marker\":{\"color\":\"#636efa\",\"symbol\":\"circle\"},\"mode\":\"markers\",\"name\":\"\",\"orientation\":\"v\",\"showlegend\":false,\"x\":[6.064879025330425,-1.636938448864897,-0.07268152367645006,12.92727271592832,-1.0420309133992416,-6.596590031332449,6.733536839418283,1.1555792826658524,-2.7125570896675897,-2.842422775145611,2.945221536445615,-4.417439878924539,6.323463724561669,2.5538857942766446,-3.270114150061796,-4.411127429079308,2.394075415672267,-2.9649062509892476,5.78508948397285,4.966996685679169,3.7079216227361336,-9.607783284228965,1.9715409611985075,12.365846648639279,-2.7838800438270765,-1.6659157197585308,-3.8742742733092763,-0.23956374692495425,-6.368453915055252,-4.086684275485852,-6.527561969322368,-4.774384017471628],\"xaxis\":\"x\",\"y\":[1.0305330784588553,-1.3521382148716674,-4.55265318959559,2.46908633186338,4.44457770816873,6.157851002384298,-3.1087699818748664,2.8840050243733004,3.8518210083880486,-10.438699479309955,-6.731877143429489,-2.8322029016694286,2.3222146030191952,6.6858903079215874,2.87227020134762,-1.0957842367253903,5.512822946728882,4.014857782593695,2.1235418538035566,-3.540479258511264,-0.6095976087344567,0.35126914204654647,-3.891500451306548,-1.9420225751280986,3.1052799159931963,4.328348846367423,-17.12020170015754,-0.45320562578299817,0.9412478776415408,2.77018241439616,0.1688320453045779,1.6345002762966923],\"yaxis\":\"y\",\"type\":\"scatter\"}],                        {\"template\":{\"data\":{\"histogram2dcontour\":[{\"type\":\"histogram2dcontour\",\"colorbar\":{\"outlinewidth\":0,\"ticks\":\"\"},\"colorscale\":[[0.0,\"#0d0887\"],[0.1111111111111111,\"#46039f\"],[0.2222222222222222,\"#7201a8\"],[0.3333333333333333,\"#9c179e\"],[0.4444444444444444,\"#bd3786\"],[0.5555555555555556,\"#d8576b\"],[0.6666666666666666,\"#ed7953\"],[0.7777777777777778,\"#fb9f3a\"],[0.8888888888888888,\"#fdca26\"],[1.0,\"#f0f921\"]]}],\"choropleth\":[{\"type\":\"choropleth\",\"colorbar\":{\"outlinewidth\":0,\"ticks\":\"\"}}],\"histogram2d\":[{\"type\":\"histogram2d\",\"colorbar\":{\"outlinewidth\":0,\"ticks\":\"\"},\"colorscale\":[[0.0,\"#0d0887\"],[0.1111111111111111,\"#46039f\"],[0.2222222222222222,\"#7201a8\"],[0.3333333333333333,\"#9c179e\"],[0.4444444444444444,\"#bd3786\"],[0.5555555555555556,\"#d8576b\"],[0.6666666666666666,\"#ed7953\"],[0.7777777777777778,\"#fb9f3a\"],[0.8888888888888888,\"#fdca26\"],[1.0,\"#f0f921\"]]}],\"heatmap\":[{\"type\":\"heatmap\",\"colorbar\":{\"outlinewidth\":0,\"ticks\":\"\"},\"colorscale\":[[0.0,\"#0d0887\"],[0.1111111111111111,\"#46039f\"],[0.2222222222222222,\"#7201a8\"],[0.3333333333333333,\"#9c179e\"],[0.4444444444444444,\"#bd3786\"],[0.5555555555555556,\"#d8576b\"],[0.6666666666666666,\"#ed7953\"],[0.7777777777777778,\"#fb9f3a\"],[0.8888888888888888,\"#fdca26\"],[1.0,\"#f0f921\"]]}],\"heatmapgl\":[{\"type\":\"heatmapgl\",\"colorbar\":{\"outlinewidth\":0,\"ticks\":\"\"},\"colorscale\":[[0.0,\"#0d0887\"],[0.1111111111111111,\"#46039f\"],[0.2222222222222222,\"#7201a8\"],[0.3333333333333333,\"#9c179e\"],[0.4444444444444444,\"#bd3786\"],[0.5555555555555556,\"#d8576b\"],[0.6666666666666666,\"#ed7953\"],[0.7777777777777778,\"#fb9f3a\"],[0.8888888888888888,\"#fdca26\"],[1.0,\"#f0f921\"]]}],\"contourcarpet\":[{\"type\":\"contourcarpet\",\"colorbar\":{\"outlinewidth\":0,\"ticks\":\"\"}}],\"contour\":[{\"type\":\"contour\",\"colorbar\":{\"outlinewidth\":0,\"ticks\":\"\"},\"colorscale\":[[0.0,\"#0d0887\"],[0.1111111111111111,\"#46039f\"],[0.2222222222222222,\"#7201a8\"],[0.3333333333333333,\"#9c179e\"],[0.4444444444444444,\"#bd3786\"],[0.5555555555555556,\"#d8576b\"],[0.6666666666666666,\"#ed7953\"],[0.7777777777777778,\"#fb9f3a\"],[0.8888888888888888,\"#fdca26\"],[1.0,\"#f0f921\"]]}],\"surface\":[{\"type\":\"surface\",\"colorbar\":{\"outlinewidth\":0,\"ticks\":\"\"},\"colorscale\":[[0.0,\"#0d0887\"],[0.1111111111111111,\"#46039f\"],[0.2222222222222222,\"#7201a8\"],[0.3333333333333333,\"#9c179e\"],[0.4444444444444444,\"#bd3786\"],[0.5555555555555556,\"#d8576b\"],[0.6666666666666666,\"#ed7953\"],[0.7777777777777778,\"#fb9f3a\"],[0.8888888888888888,\"#fdca26\"],[1.0,\"#f0f921\"]]}],\"mesh3d\":[{\"type\":\"mesh3d\",\"colorbar\":{\"outlinewidth\":0,\"ticks\":\"\"}}],\"scatter\":[{\"fillpattern\":{\"fillmode\":\"overlay\",\"size\":10,\"solidity\":0.2},\"type\":\"scatter\"}],\"parcoords\":[{\"type\":\"parcoords\",\"line\":{\"colorbar\":{\"outlinewidth\":0,\"ticks\":\"\"}}}],\"scatterpolargl\":[{\"type\":\"scatterpolargl\",\"marker\":{\"colorbar\":{\"outlinewidth\":0,\"ticks\":\"\"}}}],\"bar\":[{\"error_x\":{\"color\":\"#2a3f5f\"},\"error_y\":{\"color\":\"#2a3f5f\"},\"marker\":{\"line\":{\"color\":\"#E5ECF6\",\"width\":0.5},\"pattern\":{\"fillmode\":\"overlay\",\"size\":10,\"solidity\":0.2}},\"type\":\"bar\"}],\"scattergeo\":[{\"type\":\"scattergeo\",\"marker\":{\"colorbar\":{\"outlinewidth\":0,\"ticks\":\"\"}}}],\"scatterpolar\":[{\"type\":\"scatterpolar\",\"marker\":{\"colorbar\":{\"outlinewidth\":0,\"ticks\":\"\"}}}],\"histogram\":[{\"marker\":{\"pattern\":{\"fillmode\":\"overlay\",\"size\":10,\"solidity\":0.2}},\"type\":\"histogram\"}],\"scattergl\":[{\"type\":\"scattergl\",\"marker\":{\"colorbar\":{\"outlinewidth\":0,\"ticks\":\"\"}}}],\"scatter3d\":[{\"type\":\"scatter3d\",\"line\":{\"colorbar\":{\"outlinewidth\":0,\"ticks\":\"\"}},\"marker\":{\"colorbar\":{\"outlinewidth\":0,\"ticks\":\"\"}}}],\"scattermapbox\":[{\"type\":\"scattermapbox\",\"marker\":{\"colorbar\":{\"outlinewidth\":0,\"ticks\":\"\"}}}],\"scatterternary\":[{\"type\":\"scatterternary\",\"marker\":{\"colorbar\":{\"outlinewidth\":0,\"ticks\":\"\"}}}],\"scattercarpet\":[{\"type\":\"scattercarpet\",\"marker\":{\"colorbar\":{\"outlinewidth\":0,\"ticks\":\"\"}}}],\"carpet\":[{\"aaxis\":{\"endlinecolor\":\"#2a3f5f\",\"gridcolor\":\"white\",\"linecolor\":\"white\",\"minorgridcolor\":\"white\",\"startlinecolor\":\"#2a3f5f\"},\"baxis\":{\"endlinecolor\":\"#2a3f5f\",\"gridcolor\":\"white\",\"linecolor\":\"white\",\"minorgridcolor\":\"white\",\"startlinecolor\":\"#2a3f5f\"},\"type\":\"carpet\"}],\"table\":[{\"cells\":{\"fill\":{\"color\":\"#EBF0F8\"},\"line\":{\"color\":\"white\"}},\"header\":{\"fill\":{\"color\":\"#C8D4E3\"},\"line\":{\"color\":\"white\"}},\"type\":\"table\"}],\"barpolar\":[{\"marker\":{\"line\":{\"color\":\"#E5ECF6\",\"width\":0.5},\"pattern\":{\"fillmode\":\"overlay\",\"size\":10,\"solidity\":0.2}},\"type\":\"barpolar\"}],\"pie\":[{\"automargin\":true,\"type\":\"pie\"}]},\"layout\":{\"autotypenumbers\":\"strict\",\"colorway\":[\"#636efa\",\"#EF553B\",\"#00cc96\",\"#ab63fa\",\"#FFA15A\",\"#19d3f3\",\"#FF6692\",\"#B6E880\",\"#FF97FF\",\"#FECB52\"],\"font\":{\"color\":\"#2a3f5f\"},\"hovermode\":\"closest\",\"hoverlabel\":{\"align\":\"left\"},\"paper_bgcolor\":\"white\",\"plot_bgcolor\":\"#E5ECF6\",\"polar\":{\"bgcolor\":\"#E5ECF6\",\"angularaxis\":{\"gridcolor\":\"white\",\"linecolor\":\"white\",\"ticks\":\"\"},\"radialaxis\":{\"gridcolor\":\"white\",\"linecolor\":\"white\",\"ticks\":\"\"}},\"ternary\":{\"bgcolor\":\"#E5ECF6\",\"aaxis\":{\"gridcolor\":\"white\",\"linecolor\":\"white\",\"ticks\":\"\"},\"baxis\":{\"gridcolor\":\"white\",\"linecolor\":\"white\",\"ticks\":\"\"},\"caxis\":{\"gridcolor\":\"white\",\"linecolor\":\"white\",\"ticks\":\"\"}},\"coloraxis\":{\"colorbar\":{\"outlinewidth\":0,\"ticks\":\"\"}},\"colorscale\":{\"sequential\":[[0.0,\"#0d0887\"],[0.1111111111111111,\"#46039f\"],[0.2222222222222222,\"#7201a8\"],[0.3333333333333333,\"#9c179e\"],[0.4444444444444444,\"#bd3786\"],[0.5555555555555556,\"#d8576b\"],[0.6666666666666666,\"#ed7953\"],[0.7777777777777778,\"#fb9f3a\"],[0.8888888888888888,\"#fdca26\"],[1.0,\"#f0f921\"]],\"sequentialminus\":[[0.0,\"#0d0887\"],[0.1111111111111111,\"#46039f\"],[0.2222222222222222,\"#7201a8\"],[0.3333333333333333,\"#9c179e\"],[0.4444444444444444,\"#bd3786\"],[0.5555555555555556,\"#d8576b\"],[0.6666666666666666,\"#ed7953\"],[0.7777777777777778,\"#fb9f3a\"],[0.8888888888888888,\"#fdca26\"],[1.0,\"#f0f921\"]],\"diverging\":[[0,\"#8e0152\"],[0.1,\"#c51b7d\"],[0.2,\"#de77ae\"],[0.3,\"#f1b6da\"],[0.4,\"#fde0ef\"],[0.5,\"#f7f7f7\"],[0.6,\"#e6f5d0\"],[0.7,\"#b8e186\"],[0.8,\"#7fbc41\"],[0.9,\"#4d9221\"],[1,\"#276419\"]]},\"xaxis\":{\"gridcolor\":\"white\",\"linecolor\":\"white\",\"ticks\":\"\",\"title\":{\"standoff\":15},\"zerolinecolor\":\"white\",\"automargin\":true,\"zerolinewidth\":2},\"yaxis\":{\"gridcolor\":\"white\",\"linecolor\":\"white\",\"ticks\":\"\",\"title\":{\"standoff\":15},\"zerolinecolor\":\"white\",\"automargin\":true,\"zerolinewidth\":2},\"scene\":{\"xaxis\":{\"backgroundcolor\":\"#E5ECF6\",\"gridcolor\":\"white\",\"linecolor\":\"white\",\"showbackground\":true,\"ticks\":\"\",\"zerolinecolor\":\"white\",\"gridwidth\":2},\"yaxis\":{\"backgroundcolor\":\"#E5ECF6\",\"gridcolor\":\"white\",\"linecolor\":\"white\",\"showbackground\":true,\"ticks\":\"\",\"zerolinecolor\":\"white\",\"gridwidth\":2},\"zaxis\":{\"backgroundcolor\":\"#E5ECF6\",\"gridcolor\":\"white\",\"linecolor\":\"white\",\"showbackground\":true,\"ticks\":\"\",\"zerolinecolor\":\"white\",\"gridwidth\":2}},\"shapedefaults\":{\"line\":{\"color\":\"#2a3f5f\"}},\"annotationdefaults\":{\"arrowcolor\":\"#2a3f5f\",\"arrowhead\":0,\"arrowwidth\":1},\"geo\":{\"bgcolor\":\"white\",\"landcolor\":\"#E5ECF6\",\"subunitcolor\":\"white\",\"showland\":true,\"showlakes\":true,\"lakecolor\":\"white\"},\"title\":{\"x\":0.05},\"mapbox\":{\"style\":\"light\"}}},\"xaxis\":{\"anchor\":\"y\",\"domain\":[0.0,1.0],\"title\":{\"text\":\"x\"}},\"yaxis\":{\"anchor\":\"x\",\"domain\":[0.0,1.0],\"title\":{\"text\":\"y\"}},\"legend\":{\"tracegroupgap\":0},\"margin\":{\"t\":60},\"annotations\":[{\"arrowhead\":7,\"ax\":20,\"ay\":-30,\"showarrow\":true,\"text\":\"test\",\"x\":6.064879025330425,\"xref\":\"x\",\"y\":1.0305330784588553,\"yref\":\"y\"},{\"arrowhead\":7,\"ax\":20,\"ay\":-30,\"showarrow\":true,\"text\":\"portfolio\",\"x\":-1.636938448864897,\"xref\":\"x\",\"y\":-1.3521382148716674,\"yref\":\"y\"},{\"arrowhead\":7,\"ax\":20,\"ay\":-30,\"showarrow\":true,\"text\":\"date\",\"x\":-0.07268152367645006,\"xref\":\"x\",\"y\":-4.55265318959559,\"yref\":\"y\"},{\"arrowhead\":7,\"ax\":20,\"ay\":-30,\"showarrow\":true,\"text\":\"make\",\"x\":12.92727271592832,\"xref\":\"x\",\"y\":2.46908633186338,\"yref\":\"y\"},{\"arrowhead\":7,\"ax\":20,\"ay\":-30,\"showarrow\":true,\"text\":\"attribut\",\"x\":-1.0420309133992416,\"xref\":\"x\",\"y\":4.44457770816873,\"yref\":\"y\"},{\"arrowhead\":7,\"ax\":20,\"ay\":-30,\"showarrow\":true,\"text\":\"son\",\"x\":-6.596590031332449,\"xref\":\"x\",\"y\":6.157851002384298,\"yref\":\"y\"},{\"arrowhead\":7,\"ax\":20,\"ay\":-30,\"showarrow\":true,\"text\":\"like\",\"x\":6.733536839418283,\"xref\":\"x\",\"y\":-3.1087699818748664,\"yref\":\"y\"},{\"arrowhead\":7,\"ax\":20,\"ay\":-30,\"showarrow\":true,\"text\":\"side\",\"x\":1.1555792826658524,\"xref\":\"x\",\"y\":2.8840050243733004,\"yref\":\"y\"},{\"arrowhead\":7,\"ax\":20,\"ay\":-30,\"showarrow\":true,\"text\":\"slice\",\"x\":-2.7125570896675897,\"xref\":\"x\",\"y\":3.8518210083880486,\"yref\":\"y\"},{\"arrowhead\":7,\"ax\":20,\"ay\":-30,\"showarrow\":true,\"text\":\"ticket\",\"x\":-2.842422775145611,\"xref\":\"x\",\"y\":-10.438699479309955,\"yref\":\"y\"},{\"arrowhead\":7,\"ax\":20,\"ay\":-30,\"showarrow\":true,\"text\":\"deal\",\"x\":2.945221536445615,\"xref\":\"x\",\"y\":-6.731877143429489,\"yref\":\"y\"},{\"arrowhead\":7,\"ax\":20,\"ay\":-30,\"showarrow\":true,\"text\":\"assist\",\"x\":-4.417439878924539,\"xref\":\"x\",\"y\":-2.8322029016694286,\"yref\":\"y\"},{\"arrowhead\":7,\"ax\":20,\"ay\":-30,\"showarrow\":true,\"text\":\"one\",\"x\":6.323463724561669,\"xref\":\"x\",\"y\":2.3222146030191952,\"yref\":\"y\"},{\"arrowhead\":7,\"ax\":20,\"ay\":-30,\"showarrow\":true,\"text\":\"dream\",\"x\":2.5538857942766446,\"xref\":\"x\",\"y\":6.6858903079215874,\"yref\":\"y\"},{\"arrowhead\":7,\"ax\":20,\"ay\":-30,\"showarrow\":true,\"text\":\"so\",\"x\":-3.270114150061796,\"xref\":\"x\",\"y\":2.87227020134762,\"yref\":\"y\"},{\"arrowhead\":7,\"ax\":20,\"ay\":-30,\"showarrow\":true,\"text\":\"equistar\",\"x\":-4.411127429079308,\"xref\":\"x\",\"y\":-1.0957842367253903,\"yref\":\"y\"},{\"arrowhead\":7,\"ax\":20,\"ay\":-30,\"showarrow\":true,\"text\":\"low\",\"x\":2.394075415672267,\"xref\":\"x\",\"y\":5.512822946728882,\"yref\":\"y\"},{\"arrowhead\":7,\"ax\":20,\"ay\":-30,\"showarrow\":true,\"text\":\"beg\",\"x\":-2.9649062509892476,\"xref\":\"x\",\"y\":4.014857782593695,\"yref\":\"y\"},{\"arrowhead\":7,\"ax\":20,\"ay\":-30,\"showarrow\":true,\"text\":\"still\",\"x\":5.78508948397285,\"xref\":\"x\",\"y\":2.1235418538035566,\"yref\":\"y\"},{\"arrowhead\":7,\"ax\":20,\"ay\":-30,\"showarrow\":true,\"text\":\"avail\",\"x\":4.966996685679169,\"xref\":\"x\",\"y\":-3.540479258511264,\"yref\":\"y\"},{\"arrowhead\":7,\"ax\":20,\"ay\":-30,\"showarrow\":true,\"text\":\"begin\",\"x\":3.7079216227361336,\"xref\":\"x\",\"y\":-0.6095976087344567,\"yref\":\"y\"},{\"arrowhead\":7,\"ax\":20,\"ay\":-30,\"showarrow\":true,\"text\":\"robert\",\"x\":-9.607783284228965,\"xref\":\"x\",\"y\":0.35126914204654647,\"yref\":\"y\"},{\"arrowhead\":7,\"ax\":20,\"ay\":-30,\"showarrow\":true,\"text\":\"enter\",\"x\":1.9715409611985075,\"xref\":\"x\",\"y\":-3.891500451306548,\"yref\":\"y\"},{\"arrowhead\":7,\"ax\":20,\"ay\":-30,\"showarrow\":true,\"text\":\"new\",\"x\":12.365846648639279,\"xref\":\"x\",\"y\":-1.9420225751280986,\"yref\":\"y\"},{\"arrowhead\":7,\"ax\":20,\"ay\":-30,\"showarrow\":true,\"text\":\"who\",\"x\":-2.7838800438270765,\"xref\":\"x\",\"y\":3.1052799159931963,\"yref\":\"y\"},{\"arrowhead\":7,\"ax\":20,\"ay\":-30,\"showarrow\":true,\"text\":\"disciplin\",\"x\":-1.6659157197585308,\"xref\":\"x\",\"y\":4.328348846367423,\"yref\":\"y\"},{\"arrowhead\":7,\"ax\":20,\"ay\":-30,\"showarrow\":true,\"text\":\"forward\",\"x\":-3.8742742733092763,\"xref\":\"x\",\"y\":-17.12020170015754,\"yref\":\"y\"},{\"arrowhead\":7,\"ax\":20,\"ay\":-30,\"showarrow\":true,\"text\":\"talk\",\"x\":-0.23956374692495425,\"xref\":\"x\",\"y\":-0.45320562578299817,\"yref\":\"y\"},{\"arrowhead\":7,\"ax\":20,\"ay\":-30,\"showarrow\":true,\"text\":\"bryan\",\"x\":-6.368453915055252,\"xref\":\"x\",\"y\":0.9412478776415408,\"yref\":\"y\"},{\"arrowhead\":7,\"ax\":20,\"ay\":-30,\"showarrow\":true,\"text\":\"hull\",\"x\":-4.086684275485852,\"xref\":\"x\",\"y\":2.77018241439616,\"yref\":\"y\"},{\"arrowhead\":7,\"ax\":20,\"ay\":-30,\"showarrow\":true,\"text\":\"anita\",\"x\":-6.527561969322368,\"xref\":\"x\",\"y\":0.1688320453045779,\"yref\":\"y\"},{\"arrowhead\":7,\"ax\":20,\"ay\":-30,\"showarrow\":true,\"text\":\"luong\",\"x\":-4.774384017471628,\"xref\":\"x\",\"y\":1.6345002762966923,\"yref\":\"y\"}],\"height\":1200,\"width\":1200,\"title\":{\"text\":\"Visualisasi Kata-kata Bahasa Inggris\"}},                        {\"responsive\": true}                    ).then(function(){\n",
              "                            \n",
              "var gd = document.getElementById('90074394-bf39-4f5e-a3f0-6c0e88a1ab56');\n",
              "var x = new MutationObserver(function (mutations, observer) {{\n",
              "        var display = window.getComputedStyle(gd).display;\n",
              "        if (!display || display === 'none') {{\n",
              "            console.log([gd, 'removed!']);\n",
              "            Plotly.purge(gd);\n",
              "            observer.disconnect();\n",
              "        }}\n",
              "}});\n",
              "\n",
              "// Listen for the removal of the full notebook cells\n",
              "var notebookContainer = gd.closest('#notebook-container');\n",
              "if (notebookContainer) {{\n",
              "    x.observe(notebookContainer, {childList: true});\n",
              "}}\n",
              "\n",
              "// Listen for the clearing of the current output cell\n",
              "var outputEl = gd.closest('.output');\n",
              "if (outputEl) {{\n",
              "    x.observe(outputEl, {childList: true});\n",
              "}}\n",
              "\n",
              "                        })                };                            </script>        </div>\n",
              "</body>\n",
              "</html>"
            ]
          },
          "metadata": {}
        }
      ]
    },
    {
      "cell_type": "markdown",
      "metadata": {
        "id": "o9FIVd4_qxww"
      },
      "source": [
        "## **Tahap 3: Pemodelan Klasifikasi**"
      ]
    },
    {
      "cell_type": "markdown",
      "metadata": {
        "id": "jFnLT6Huq8yu"
      },
      "source": [
        "### **4. Model Klasifikasi**"
      ]
    },
    {
      "cell_type": "code",
      "source": [
        "def vectorize_text(tokens, model):\n",
        "    vectors = [model.wv[word] for word in tokens if word in model.wv]\n",
        "    if vectors:\n",
        "        return np.mean(vectors, axis=0)\n",
        "    else:\n",
        "        return np.zeros(model.vector_size)"
      ],
      "metadata": {
        "id": "S2YHbAF9YcUw"
      },
      "execution_count": null,
      "outputs": []
    },
    {
      "cell_type": "code",
      "source": [
        "X = np.array([vectorize_text(text, model_wikihow) for text in df.tokenize_text])"
      ],
      "metadata": {
        "id": "xf7w6Knwg_Tf"
      },
      "execution_count": null,
      "outputs": []
    },
    {
      "cell_type": "code",
      "source": [
        "# Melakukan Label Encoder\n",
        "label_encoder = LabelEncoder()\n",
        "y = label_encoder.fit_transform(df['Email Type'])"
      ],
      "metadata": {
        "id": "81E95-_dEYyT"
      },
      "execution_count": null,
      "outputs": []
    },
    {
      "cell_type": "code",
      "source": [
        "# Pembagian Train Test Split\n",
        "X_train, X_test, y_train, y_test = train_test_split(X, y, test_size=0.2, random_state=42)"
      ],
      "metadata": {
        "id": "j6yTDBBqEccC"
      },
      "execution_count": null,
      "outputs": []
    },
    {
      "cell_type": "code",
      "source": [
        "def summarize_data_split(X_train, X_test, y_train, y_test):\n",
        "  print(\"Training:\", X_train.shape)\n",
        "  print(\"Testing:\", y_test.shape)\n",
        "\n",
        "summarize_data_split(X_train, X_test, y_train, y_test)"
      ],
      "metadata": {
        "colab": {
          "base_uri": "https://localhost:8080/"
        },
        "id": "XdUiFj50FRdM",
        "outputId": "fb98a0c9-08cd-4f6e-8ca3-ba6348b09d26"
      },
      "execution_count": null,
      "outputs": [
        {
          "output_type": "stream",
          "name": "stdout",
          "text": [
            "Training: (14907, 100)\n",
            "Testing: (3727,)\n"
          ]
        }
      ]
    },
    {
      "cell_type": "markdown",
      "source": [
        "#### 4.1 Pembuatan Model KNN dengan Word2Vec"
      ],
      "metadata": {
        "id": "2rHKP6VH6a_A"
      }
    },
    {
      "cell_type": "code",
      "source": [
        "def train_knn_models(X_train, y_train, k_values):\n",
        "    knn_models = []\n",
        "    for k in k_values:\n",
        "        # Melatih KNN dengan nilai k tertentu\n",
        "        knn_classifier = KNeighborsClassifier(n_neighbors=k, weights='distance', metric='minkowski')\n",
        "        knn_classifier.fit(X_train, y_train)\n",
        "        knn_models.append((f'KNN (k={k})', knn_classifier))  # Menyimpan model dan nilai k-nya\n",
        "    return knn_models\n",
        "\n",
        "# Melatih model KNN untuk berbagai nilai k\n",
        "k_values = [3, 5]\n",
        "knn_models = train_knn_models(X_train, y_train, k_values)"
      ],
      "metadata": {
        "id": "df2nNACb6ZZw"
      },
      "execution_count": null,
      "outputs": []
    },
    {
      "cell_type": "markdown",
      "source": [
        "#### 4.2 Evaluasi Model KNN dengan Word2Vec"
      ],
      "metadata": {
        "id": "edtJBM6PFZPZ"
      }
    },
    {
      "cell_type": "code",
      "source": [
        "import numpy as np\n",
        "from sklearn.metrics import confusion_matrix, precision_score, recall_score, f1_score, accuracy_score\n",
        "import pandas as pd\n",
        "\n",
        "# Fungsi untuk mengevaluasi model\n",
        "def evaluate_model(model, X_test, y_test):\n",
        "    y_pred = model.predict(X_test)\n",
        "\n",
        "    # Pastikan label yang ada di y_test yang digunakan dalam confusion_matrix\n",
        "    labels = np.unique(y_test)\n",
        "\n",
        "    cm = confusion_matrix(y_test, y_pred, labels=labels)\n",
        "    tn, fp, fn, tp = cm.ravel()\n",
        "\n",
        "    # Hitung precision secara manual\n",
        "    precision_manual = tp / (tp + fp) if (tp + fp) != 0 else 0\n",
        "\n",
        "    # Mengembalikan hasil evaluasi metrik\n",
        "    return {\n",
        "        'Confusion Matrix': cm,\n",
        "        'Accuracy': accuracy_score(y_test, y_pred),\n",
        "        'Precision': precision_manual,  # Precision manual\n",
        "        'Recall': recall_score(y_test, y_pred, pos_label=labels[1]),\n",
        "        'F1-Score': f1_score(y_test, y_pred, pos_label=labels[1])\n",
        "    }\n",
        "\n",
        "# Fungsi untuk mengevaluasi model KNN yang sudah dilatih\n",
        "def evaluate_knn_models(knn_models, X_test, y_test):\n",
        "    knn_results = []\n",
        "    for model_name, model in knn_models:\n",
        "        metrics = evaluate_model(model, X_test, y_test)\n",
        "        knn_results.append({\n",
        "            'Model': model_name,\n",
        "            'Accuracy': metrics['Accuracy'],\n",
        "            'Precision': metrics['Precision'],  # Precision manual\n",
        "            'Recall': metrics['Recall'],\n",
        "            'F1-Score': metrics['F1-Score']\n",
        "        })\n",
        "    return knn_results\n",
        "\n",
        "# Mengevaluasi model yang sudah dilatih\n",
        "knn_results = evaluate_knn_models(knn_models, X_test, y_test)\n",
        "\n",
        "# Buat DataFrame untuk meringkas hasil\n",
        "summary_df = pd.DataFrame(knn_results)\n",
        "\n",
        "# Tampilkan hasil\n",
        "print(summary_df)"
      ],
      "metadata": {
        "colab": {
          "base_uri": "https://localhost:8080/"
        },
        "id": "agoaq9InFb_v",
        "outputId": "cae53a4b-e645-4125-fe33-08fbe0a1ef19"
      },
      "execution_count": null,
      "outputs": [
        {
          "output_type": "stream",
          "name": "stdout",
          "text": [
            "       Model  Accuracy  Precision    Recall  F1-Score\n",
            "0  KNN (k=3)  0.960021   0.971180  0.961068  0.966098\n",
            "1  KNN (k=5)  0.962168   0.971715  0.964237  0.967962\n"
          ]
        }
      ]
    },
    {
      "cell_type": "code",
      "source": [
        "def plot_confusion_matrix(model, X_test, y_test):\n",
        "    y_pred = model.predict(X_test)\n",
        "    cm = confusion_matrix(y_test, y_pred)\n",
        "    plt.figure(figsize=(8, 6))\n",
        "    sns.heatmap(cm, annot=True, fmt=\"d\", cmap=\"Blues\",\n",
        "                xticklabels=['Safe Email', 'Phising Email'],\n",
        "                yticklabels=['Safe Email', 'Phising Email'])\n",
        "    plt.xlabel(\"Predicted Label\")\n",
        "    plt.ylabel(\"True Label\")\n",
        "    plt.title(f\"Confusion Matrix for {model_name}\")\n",
        "    plt.show()\n",
        "\n",
        "\n",
        "for model_name, model in knn_models:\n",
        "    plot_confusion_matrix(model, X_test, y_test)"
      ],
      "metadata": {
        "colab": {
          "base_uri": "https://localhost:8080/",
          "height": 1000
        },
        "id": "e83Is1lQFhVp",
        "outputId": "8fe6b974-f7ce-431c-9e58-fd945931a4a6"
      },
      "execution_count": null,
      "outputs": [
        {
          "output_type": "display_data",
          "data": {
            "text/plain": [
              "<Figure size 800x600 with 2 Axes>"
            ],
            "image/png": "[encoded data removed]"
          },
          "metadata": {}
        },
        {
          "output_type": "display_data",
          "data": {
            "text/plain": [
              "<Figure size 800x600 with 2 Axes>"
            ],
            "image/png": "[encoded data removed]"
          },
          "metadata": {}
        }
      ]
    },
    {
      "cell_type": "markdown",
      "source": [
        "#### 4.3 Pembuatan Model Naive Bayes dengan Word2Vec"
      ],
      "metadata": {
        "id": "nKgTv_dc6h-t"
      }
    },
    {
      "cell_type": "code",
      "source": [
        "# Evaluasi Naive Bayes\n",
        "nb_results = []\n",
        "\n",
        "# Inisialisasi Naive Bayes (GaussianNB)\n",
        "nb_classifier = GaussianNB(var_smoothing=1e-9)\n",
        "\n",
        "# Convert X_train and X_test to dense arrays\n",
        "X_train_dense = X_train  # Assuming X_train is a sparse matrix\n",
        "X_test_dense = X_test   # Assuming X_test is a sparse matrix\n",
        "\n",
        "# Melatih model Naive Bayes\n",
        "nb_classifier.fit(X_train_dense, y_train)\n",
        "\n",
        "# Menghitung metrik evaluasi\n",
        "metrics = evaluate_model(nb_classifier, X_test_dense, y_test)"
      ],
      "metadata": {
        "id": "3lqMkIZW6phm"
      },
      "execution_count": null,
      "outputs": []
    },
    {
      "cell_type": "markdown",
      "source": [
        "#### 4.4 Evaluasi Model Naive Bayes dengan Word2Vec"
      ],
      "metadata": {
        "id": "lnLKAa9oFsmk"
      }
    },
    {
      "cell_type": "code",
      "source": [
        "# Fungsi untuk mengevaluasi model\n",
        "def evaluate_model(model, X_test, y_test):\n",
        "    y_pred = model.predict(X_test)\n",
        "\n",
        "    # Pastikan label yang ada di y_test yang digunakan dalam confusion_matrix\n",
        "    labels = np.unique(y_test)  # Menyesuaikan label dengan yang ada di y_test\n",
        "\n",
        "    cm = confusion_matrix(y_test, y_pred, labels=labels)\n",
        "    tn, fp, fn, tp = cm.ravel()\n",
        "\n",
        "    return {\n",
        "        'Confusion Matrix': cm,\n",
        "        'Accuracy': accuracy_score(y_test, y_pred),\n",
        "        'Precision': precision_score(y_test, y_pred, pos_label=labels[1]),\n",
        "        'Recall': recall_score(y_test, y_pred, pos_label=labels[1]),\n",
        "        'F1-Score': f1_score(y_test, y_pred, pos_label=labels[1])\n",
        "    }\n",
        "\n",
        "# Menyimpan hasil evaluasi\n",
        "nb_results.append({\n",
        "    'Model': 'Naive Bayes',\n",
        "    'Accuracy': metrics['Accuracy'],\n",
        "    'Precision': metrics['Precision'],\n",
        "    'Recall': metrics['Recall'],\n",
        "    'F1-Score': metrics['F1-Score']\n",
        "})\n",
        "\n",
        "# Buat DataFrame untuk meringkas hasil Naive Bayes\n",
        "nb_summary_df = pd.DataFrame(nb_results)\n",
        "\n",
        "# Tampilkan hasil\n",
        "print(nb_summary_df)"
      ],
      "metadata": {
        "id": "0-qKLH5xFvfM",
        "outputId": "84c30691-22e3-48ed-d177-ab55cdbb24d8",
        "colab": {
          "base_uri": "https://localhost:8080/"
        }
      },
      "execution_count": null,
      "outputs": [
        {
          "output_type": "stream",
          "name": "stdout",
          "text": [
            "         Model  Accuracy  Precision    Recall  F1-Score\n",
            "0  Naive Bayes  0.904213   0.928307  0.908556  0.918325\n"
          ]
        }
      ]
    },
    {
      "cell_type": "code",
      "source": [
        "y_pred_nb = nb_classifier.predict(X_test_dense)\n",
        "\n",
        "# Calculate the confusion matrix\n",
        "cm_nb = confusion_matrix(y_test, y_pred_nb)\n",
        "\n",
        "# Plot the confusion matrix using seaborn's heatmap\n",
        "plt.figure(figsize=(8, 6))\n",
        "sns.heatmap(cm_nb, annot=True, fmt=\"d\", cmap=\"Blues\", # Changed cm to cm_nb\n",
        "                xticklabels=['Safe Email', 'Phising Email'],\n",
        "                yticklabels=['Safe Email', 'Phising Email'])\n",
        "plt.xlabel('Predicted')\n",
        "plt.ylabel('Actual')\n",
        "plt.title('Confusion Matrix for Naive Bayes')\n",
        "plt.show()"
      ],
      "metadata": {
        "id": "Elaf3c6LFyPy",
        "outputId": "7a9abc7e-5ccd-4f4d-c2a0-2f37a6d32663",
        "colab": {
          "base_uri": "https://localhost:8080/"
        }
      },
      "execution_count": null,
      "outputs": [
        {
          "output_type": "display_data",
          "data": {
            "text/plain": [
              "<Figure size 800x600 with 2 Axes>"
            ],
            "image/png": "[encoded data removed]"
          },
          "metadata": {}
        }
      ]
    }
  ],
  "metadata": {
    "colab": {
      "provenance": []
    },
    "kernelspec": {
      "display_name": "Python 3",
      "name": "python3"
    },
    "language_info": {
      "name": "python"
    }
  },
  "nbformat": 4,
  "nbformat_minor": 0
}